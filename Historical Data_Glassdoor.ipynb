{
 "cells": [
  {
   "cell_type": "code",
   "execution_count": 1,
   "metadata": {},
   "outputs": [],
   "source": [
    "import pandas as pd\n",
    "import numpy as np\n",
    "import matplotlib.pyplot as plt"
   ]
  },
  {
   "cell_type": "code",
   "execution_count": 2,
   "metadata": {},
   "outputs": [
    {
     "name": "stdout",
     "output_type": "stream",
     "text": [
      "LPR_data-2017-06.xlsx LPR_data-2017-11.xlsx LPR_data-2018-04.xlsx\r\n",
      "LPR_data-2017-07.xlsx LPR_data-2017-12.xlsx LPR_data-2018-05.xlsx\r\n",
      "LPR_data-2017-08.xlsx LPR_data-2018-01.xlsx LPR_data-2018-06.xlsx\r\n",
      "LPR_data-2017-09.xlsx LPR_data-2018-02.xlsx LPR_data-2018-07.xlsx\r\n",
      "LPR_data-2017-10.xlsx LPR_data-2018-03.xlsx\r\n"
     ]
    }
   ],
   "source": [
    "!ls excel"
   ]
  },
  {
   "cell_type": "code",
   "execution_count": 3,
   "metadata": {},
   "outputs": [],
   "source": [
    "import glob\n",
    "excel_names =glob.glob(\"excel/LPR*.xlsx\")"
   ]
  },
  {
   "cell_type": "code",
   "execution_count": 4,
   "metadata": {},
   "outputs": [],
   "source": [
    "# filenames\n",
    "\n",
    "excels = [pd.ExcelFile(name) for name in excel_names]\n",
    "\n",
    "# turn them into dataframes\n",
    "frames = [x.parse(x.sheet_names[0], header=None,index_col=None) for x in excels]\n",
    "\n",
    "# delete the first row for all frames except the first\n",
    "# i.e. remove the header row -- assumes it's the first\n",
    "frames[1:] = [df[1:] for df in frames[1:]]\n",
    "\n",
    "# concatenate them..\n",
    "combined = pd.concat(frames)\n",
    "\n",
    "# write it out\n",
    "combined.to_csv(\"combined_data.csv\", header=False, index=False)\n",
    "combined.to_excel(\"combined.xlsx\", header=False, index=False)"
   ]
  },
  {
   "cell_type": "code",
   "execution_count": 5,
   "metadata": {},
   "outputs": [
    {
     "data": {
      "text/html": [
       "<div>\n",
       "<style scoped>\n",
       "    .dataframe tbody tr th:only-of-type {\n",
       "        vertical-align: middle;\n",
       "    }\n",
       "\n",
       "    .dataframe tbody tr th {\n",
       "        vertical-align: top;\n",
       "    }\n",
       "\n",
       "    .dataframe thead th {\n",
       "        text-align: right;\n",
       "    }\n",
       "</style>\n",
       "<table border=\"1\" class=\"dataframe\">\n",
       "  <thead>\n",
       "    <tr style=\"text-align: right;\">\n",
       "      <th></th>\n",
       "      <th>Metro</th>\n",
       "      <th>Dimension Type</th>\n",
       "      <th>Month</th>\n",
       "      <th>Dimension</th>\n",
       "      <th>Measure</th>\n",
       "      <th>Value</th>\n",
       "      <th>YoY</th>\n",
       "    </tr>\n",
       "  </thead>\n",
       "  <tbody>\n",
       "    <tr>\n",
       "      <th>0</th>\n",
       "      <td>National</td>\n",
       "      <td>Quick Facts</td>\n",
       "      <td>2018-06</td>\n",
       "      <td>U.S. Median Pay</td>\n",
       "      <td>U.S. Median Pay</td>\n",
       "      <td>52052.0</td>\n",
       "      <td>0.016</td>\n",
       "    </tr>\n",
       "    <tr>\n",
       "      <th>1</th>\n",
       "      <td>Atlanta</td>\n",
       "      <td>Quick Facts</td>\n",
       "      <td>2018-06</td>\n",
       "      <td>Metro Median Pay</td>\n",
       "      <td>Metro Median Pay</td>\n",
       "      <td>53688.0</td>\n",
       "      <td>0.015</td>\n",
       "    </tr>\n",
       "    <tr>\n",
       "      <th>2</th>\n",
       "      <td>Atlanta</td>\n",
       "      <td>Quick Facts</td>\n",
       "      <td>2018-06</td>\n",
       "      <td>U.S. Median Pay</td>\n",
       "      <td>U.S. Median Pay</td>\n",
       "      <td>52052.0</td>\n",
       "      <td>0.016</td>\n",
       "    </tr>\n",
       "    <tr>\n",
       "      <th>3</th>\n",
       "      <td>Atlanta</td>\n",
       "      <td>Quick Facts</td>\n",
       "      <td>2018-06</td>\n",
       "      <td>Job Openings</td>\n",
       "      <td>Job Openings</td>\n",
       "      <td>133775.0</td>\n",
       "      <td>0.296</td>\n",
       "    </tr>\n",
       "    <tr>\n",
       "      <th>4</th>\n",
       "      <td>New York City</td>\n",
       "      <td>Quick Facts</td>\n",
       "      <td>2018-06</td>\n",
       "      <td>Metro Median Pay</td>\n",
       "      <td>Metro Median Pay</td>\n",
       "      <td>61741.0</td>\n",
       "      <td>0.022</td>\n",
       "    </tr>\n",
       "  </tbody>\n",
       "</table>\n",
       "</div>"
      ],
      "text/plain": [
       "           Metro Dimension Type    Month         Dimension           Measure  \\\n",
       "0       National    Quick Facts  2018-06   U.S. Median Pay   U.S. Median Pay   \n",
       "1        Atlanta    Quick Facts  2018-06  Metro Median Pay  Metro Median Pay   \n",
       "2        Atlanta    Quick Facts  2018-06   U.S. Median Pay   U.S. Median Pay   \n",
       "3        Atlanta    Quick Facts  2018-06      Job Openings      Job Openings   \n",
       "4  New York City    Quick Facts  2018-06  Metro Median Pay  Metro Median Pay   \n",
       "\n",
       "      Value    YoY  \n",
       "0   52052.0  0.016  \n",
       "1   53688.0  0.015  \n",
       "2   52052.0  0.016  \n",
       "3  133775.0  0.296  \n",
       "4   61741.0  0.022  "
      ]
     },
     "execution_count": 5,
     "metadata": {},
     "output_type": "execute_result"
    }
   ],
   "source": [
    "# Make a reference to the books.csv file path\n",
    "csv_path = \"combined_data.csv\"\n",
    "\n",
    "# Import the books.csv file as a DataFrame\n",
    "original_df = pd.read_csv(csv_path, encoding=\"utf-8\")\n",
    "original_df.head()\n"
   ]
  },
  {
   "cell_type": "code",
   "execution_count": 6,
   "metadata": {},
   "outputs": [
    {
     "data": {
      "text/html": [
       "<div>\n",
       "<style scoped>\n",
       "    .dataframe tbody tr th:only-of-type {\n",
       "        vertical-align: middle;\n",
       "    }\n",
       "\n",
       "    .dataframe tbody tr th {\n",
       "        vertical-align: top;\n",
       "    }\n",
       "\n",
       "    .dataframe thead th {\n",
       "        text-align: right;\n",
       "    }\n",
       "</style>\n",
       "<table border=\"1\" class=\"dataframe\">\n",
       "  <thead>\n",
       "    <tr style=\"text-align: right;\">\n",
       "      <th></th>\n",
       "      <th>Metro</th>\n",
       "      <th>Dimension_type</th>\n",
       "      <th>Month</th>\n",
       "      <th>Dimension</th>\n",
       "      <th>Measure</th>\n",
       "      <th>Value</th>\n",
       "      <th>YoY</th>\n",
       "    </tr>\n",
       "  </thead>\n",
       "  <tbody>\n",
       "    <tr>\n",
       "      <th>0</th>\n",
       "      <td>National</td>\n",
       "      <td>Quick Facts</td>\n",
       "      <td>2018-06</td>\n",
       "      <td>U.S. Median Pay</td>\n",
       "      <td>U.S. Median Pay</td>\n",
       "      <td>52052.0</td>\n",
       "      <td>0.016</td>\n",
       "    </tr>\n",
       "    <tr>\n",
       "      <th>1</th>\n",
       "      <td>Atlanta</td>\n",
       "      <td>Quick Facts</td>\n",
       "      <td>2018-06</td>\n",
       "      <td>Metro Median Pay</td>\n",
       "      <td>Metro Median Pay</td>\n",
       "      <td>53688.0</td>\n",
       "      <td>0.015</td>\n",
       "    </tr>\n",
       "    <tr>\n",
       "      <th>2</th>\n",
       "      <td>Atlanta</td>\n",
       "      <td>Quick Facts</td>\n",
       "      <td>2018-06</td>\n",
       "      <td>U.S. Median Pay</td>\n",
       "      <td>U.S. Median Pay</td>\n",
       "      <td>52052.0</td>\n",
       "      <td>0.016</td>\n",
       "    </tr>\n",
       "    <tr>\n",
       "      <th>3</th>\n",
       "      <td>Atlanta</td>\n",
       "      <td>Quick Facts</td>\n",
       "      <td>2018-06</td>\n",
       "      <td>Job Openings</td>\n",
       "      <td>Job Openings</td>\n",
       "      <td>133775.0</td>\n",
       "      <td>0.296</td>\n",
       "    </tr>\n",
       "    <tr>\n",
       "      <th>4</th>\n",
       "      <td>New York City</td>\n",
       "      <td>Quick Facts</td>\n",
       "      <td>2018-06</td>\n",
       "      <td>Metro Median Pay</td>\n",
       "      <td>Metro Median Pay</td>\n",
       "      <td>61741.0</td>\n",
       "      <td>0.022</td>\n",
       "    </tr>\n",
       "  </tbody>\n",
       "</table>\n",
       "</div>"
      ],
      "text/plain": [
       "           Metro Dimension_type    Month         Dimension           Measure  \\\n",
       "0       National    Quick Facts  2018-06   U.S. Median Pay   U.S. Median Pay   \n",
       "1        Atlanta    Quick Facts  2018-06  Metro Median Pay  Metro Median Pay   \n",
       "2        Atlanta    Quick Facts  2018-06   U.S. Median Pay   U.S. Median Pay   \n",
       "3        Atlanta    Quick Facts  2018-06      Job Openings      Job Openings   \n",
       "4  New York City    Quick Facts  2018-06  Metro Median Pay  Metro Median Pay   \n",
       "\n",
       "      Value    YoY  \n",
       "0   52052.0  0.016  \n",
       "1   53688.0  0.015  \n",
       "2   52052.0  0.016  \n",
       "3  133775.0  0.296  \n",
       "4   61741.0  0.022  "
      ]
     },
     "execution_count": 6,
     "metadata": {},
     "output_type": "execute_result"
    }
   ],
   "source": [
    "glassdoor_df = original_df.rename(columns = {'Dimension Type': 'Dimension_type'})\n",
    "glassdoor_df.head()"
   ]
  },
  {
   "cell_type": "code",
   "execution_count": 7,
   "metadata": {},
   "outputs": [
    {
     "data": {
      "text/plain": [
       "(27947, 7)"
      ]
     },
     "execution_count": 7,
     "metadata": {},
     "output_type": "execute_result"
    }
   ],
   "source": [
    "glassdoor_df.shape"
   ]
  },
  {
   "cell_type": "code",
   "execution_count": 8,
   "metadata": {},
   "outputs": [
    {
     "data": {
      "text/plain": [
       "Metro              object\n",
       "Dimension_type     object\n",
       "Month              object\n",
       "Dimension          object\n",
       "Measure            object\n",
       "Value             float64\n",
       "YoY               float64\n",
       "dtype: object"
      ]
     },
     "execution_count": 8,
     "metadata": {},
     "output_type": "execute_result"
    }
   ],
   "source": [
    "glassdoor_df.dtypes"
   ]
  },
  {
   "cell_type": "code",
   "execution_count": 9,
   "metadata": {},
   "outputs": [
    {
     "data": {
      "text/html": [
       "<div>\n",
       "<style scoped>\n",
       "    .dataframe tbody tr th:only-of-type {\n",
       "        vertical-align: middle;\n",
       "    }\n",
       "\n",
       "    .dataframe tbody tr th {\n",
       "        vertical-align: top;\n",
       "    }\n",
       "\n",
       "    .dataframe thead th {\n",
       "        text-align: right;\n",
       "    }\n",
       "</style>\n",
       "<table border=\"1\" class=\"dataframe\">\n",
       "  <thead>\n",
       "    <tr style=\"text-align: right;\">\n",
       "      <th></th>\n",
       "      <th>Metro</th>\n",
       "      <th>Dimension_type</th>\n",
       "      <th>Month</th>\n",
       "      <th>Dimension</th>\n",
       "      <th>Measure</th>\n",
       "      <th>Value</th>\n",
       "      <th>YoY</th>\n",
       "    </tr>\n",
       "  </thead>\n",
       "  <tbody>\n",
       "    <tr>\n",
       "      <th>36</th>\n",
       "      <td>National</td>\n",
       "      <td>Job Title</td>\n",
       "      <td>2018-06</td>\n",
       "      <td>Business Analyst</td>\n",
       "      <td>Median Base Pay</td>\n",
       "      <td>65004.0</td>\n",
       "      <td>0.007</td>\n",
       "    </tr>\n",
       "    <tr>\n",
       "      <th>59</th>\n",
       "      <td>National</td>\n",
       "      <td>Job Title</td>\n",
       "      <td>2018-06</td>\n",
       "      <td>Data Scientist</td>\n",
       "      <td>Median Base Pay</td>\n",
       "      <td>94912.0</td>\n",
       "      <td>-0.002</td>\n",
       "    </tr>\n",
       "    <tr>\n",
       "      <th>61</th>\n",
       "      <td>National</td>\n",
       "      <td>Job Title</td>\n",
       "      <td>2018-06</td>\n",
       "      <td>Data Analyst</td>\n",
       "      <td>Median Base Pay</td>\n",
       "      <td>60374.0</td>\n",
       "      <td>0.019</td>\n",
       "    </tr>\n",
       "    <tr>\n",
       "      <th>120</th>\n",
       "      <td>Atlanta</td>\n",
       "      <td>Job Title</td>\n",
       "      <td>2018-06</td>\n",
       "      <td>Business Analyst</td>\n",
       "      <td>Median Base Pay</td>\n",
       "      <td>72012.0</td>\n",
       "      <td>0.007</td>\n",
       "    </tr>\n",
       "    <tr>\n",
       "      <th>143</th>\n",
       "      <td>Atlanta</td>\n",
       "      <td>Job Title</td>\n",
       "      <td>2018-06</td>\n",
       "      <td>Data Scientist</td>\n",
       "      <td>Median Base Pay</td>\n",
       "      <td>98512.0</td>\n",
       "      <td>-0.003</td>\n",
       "    </tr>\n",
       "  </tbody>\n",
       "</table>\n",
       "</div>"
      ],
      "text/plain": [
       "        Metro Dimension_type    Month         Dimension          Measure  \\\n",
       "36   National      Job Title  2018-06  Business Analyst  Median Base Pay   \n",
       "59   National      Job Title  2018-06    Data Scientist  Median Base Pay   \n",
       "61   National      Job Title  2018-06      Data Analyst  Median Base Pay   \n",
       "120   Atlanta      Job Title  2018-06  Business Analyst  Median Base Pay   \n",
       "143   Atlanta      Job Title  2018-06    Data Scientist  Median Base Pay   \n",
       "\n",
       "       Value    YoY  \n",
       "36   65004.0  0.007  \n",
       "59   94912.0 -0.002  \n",
       "61   60374.0  0.019  \n",
       "120  72012.0  0.007  \n",
       "143  98512.0 -0.003  "
      ]
     },
     "execution_count": 9,
     "metadata": {},
     "output_type": "execute_result"
    }
   ],
   "source": [
    "#Filter by Job Title = Data Analyst  & Data Scientist\n",
    "\n",
    "filtered_df = glassdoor_df.query('Dimension_type == [\"Job Title\"]')\n",
    "filtered_df = glassdoor_df[(glassdoor_df['Dimension']=='Data Analyst') | \n",
    "                           (glassdoor_df['Dimension']=='Data Scientist') |\n",
    "                          (glassdoor_df['Dimension']=='Business Analyst')]\n",
    "filtered_df.head()\n"
   ]
  },
  {
   "cell_type": "markdown",
   "metadata": {},
   "source": [
    "## Dataframe 1 - Median Salary Trend by Month"
   ]
  },
  {
   "cell_type": "code",
   "execution_count": 10,
   "metadata": {},
   "outputs": [
    {
     "data": {
      "text/html": [
       "<div>\n",
       "<style scoped>\n",
       "    .dataframe tbody tr th:only-of-type {\n",
       "        vertical-align: middle;\n",
       "    }\n",
       "\n",
       "    .dataframe tbody tr th {\n",
       "        vertical-align: top;\n",
       "    }\n",
       "\n",
       "    .dataframe thead th {\n",
       "        text-align: right;\n",
       "    }\n",
       "</style>\n",
       "<table border=\"1\" class=\"dataframe\">\n",
       "  <thead>\n",
       "    <tr style=\"text-align: right;\">\n",
       "      <th></th>\n",
       "      <th>Month</th>\n",
       "      <th>Dimension</th>\n",
       "      <th>Value</th>\n",
       "    </tr>\n",
       "  </thead>\n",
       "  <tbody>\n",
       "    <tr>\n",
       "      <th>36</th>\n",
       "      <td>2018-06</td>\n",
       "      <td>Business Analyst</td>\n",
       "      <td>65004.0</td>\n",
       "    </tr>\n",
       "    <tr>\n",
       "      <th>59</th>\n",
       "      <td>2018-06</td>\n",
       "      <td>Data Scientist</td>\n",
       "      <td>94912.0</td>\n",
       "    </tr>\n",
       "    <tr>\n",
       "      <th>61</th>\n",
       "      <td>2018-06</td>\n",
       "      <td>Data Analyst</td>\n",
       "      <td>60374.0</td>\n",
       "    </tr>\n",
       "    <tr>\n",
       "      <th>120</th>\n",
       "      <td>2018-06</td>\n",
       "      <td>Business Analyst</td>\n",
       "      <td>72012.0</td>\n",
       "    </tr>\n",
       "    <tr>\n",
       "      <th>143</th>\n",
       "      <td>2018-06</td>\n",
       "      <td>Data Scientist</td>\n",
       "      <td>98512.0</td>\n",
       "    </tr>\n",
       "  </tbody>\n",
       "</table>\n",
       "</div>"
      ],
      "text/plain": [
       "       Month         Dimension    Value\n",
       "36   2018-06  Business Analyst  65004.0\n",
       "59   2018-06    Data Scientist  94912.0\n",
       "61   2018-06      Data Analyst  60374.0\n",
       "120  2018-06  Business Analyst  72012.0\n",
       "143  2018-06    Data Scientist  98512.0"
      ]
     },
     "execution_count": 10,
     "metadata": {},
     "output_type": "execute_result"
    }
   ],
   "source": [
    "period_df = filtered_df[['Month','Dimension','Value']]\n",
    "period_df.head()"
   ]
  },
  {
   "cell_type": "code",
   "execution_count": 11,
   "metadata": {},
   "outputs": [
    {
     "data": {
      "text/plain": [
       "Month\n",
       "2017-06    83545.055556\n",
       "2017-07    84302.000000\n",
       "2017-08    84742.121212\n",
       "2017-09    84328.212121\n",
       "2017-10    83873.181818\n",
       "2017-11    83088.909091\n",
       "2017-12    84191.363636\n",
       "2018-01    83674.909091\n",
       "2018-02    84815.787879\n",
       "2018-03    85131.181818\n",
       "2018-04    85125.303030\n",
       "2018-05    84700.727273\n",
       "2018-06    84605.060606\n",
       "2018-07    85181.393939\n",
       "Name: Value, dtype: float64"
      ]
     },
     "execution_count": 11,
     "metadata": {},
     "output_type": "execute_result"
    }
   ],
   "source": [
    "#Extra - Average Median Salary by Month\n",
    "month_average = period_df.groupby([\"Month\"]).mean()['Value']\n",
    "month_average"
   ]
  },
  {
   "cell_type": "code",
   "execution_count": 12,
   "metadata": {},
   "outputs": [
    {
     "data": {
      "text/html": [
       "<div>\n",
       "<style scoped>\n",
       "    .dataframe tbody tr th:only-of-type {\n",
       "        vertical-align: middle;\n",
       "    }\n",
       "\n",
       "    .dataframe tbody tr th {\n",
       "        vertical-align: top;\n",
       "    }\n",
       "\n",
       "    .dataframe thead th {\n",
       "        text-align: right;\n",
       "    }\n",
       "</style>\n",
       "<table border=\"1\" class=\"dataframe\">\n",
       "  <thead>\n",
       "    <tr style=\"text-align: right;\">\n",
       "      <th></th>\n",
       "      <th></th>\n",
       "      <th>Value</th>\n",
       "    </tr>\n",
       "    <tr>\n",
       "      <th>Month</th>\n",
       "      <th>Dimension</th>\n",
       "      <th></th>\n",
       "    </tr>\n",
       "  </thead>\n",
       "  <tbody>\n",
       "    <tr>\n",
       "      <th rowspan=\"3\" valign=\"top\">2017-06</th>\n",
       "      <th>Business Analyst</th>\n",
       "      <td>73969.833333</td>\n",
       "    </tr>\n",
       "    <tr>\n",
       "      <th>Data Analyst</th>\n",
       "      <td>68989.666667</td>\n",
       "    </tr>\n",
       "    <tr>\n",
       "      <th>Data Scientist</th>\n",
       "      <td>107675.666667</td>\n",
       "    </tr>\n",
       "    <tr>\n",
       "      <th rowspan=\"2\" valign=\"top\">2017-07</th>\n",
       "      <th>Business Analyst</th>\n",
       "      <td>74477.545455</td>\n",
       "    </tr>\n",
       "    <tr>\n",
       "      <th>Data Analyst</th>\n",
       "      <td>69598.636364</td>\n",
       "    </tr>\n",
       "  </tbody>\n",
       "</table>\n",
       "</div>"
      ],
      "text/plain": [
       "                                  Value\n",
       "Month   Dimension                      \n",
       "2017-06 Business Analyst   73969.833333\n",
       "        Data Analyst       68989.666667\n",
       "        Data Scientist    107675.666667\n",
       "2017-07 Business Analyst   74477.545455\n",
       "        Data Analyst       69598.636364"
      ]
     },
     "execution_count": 12,
     "metadata": {},
     "output_type": "execute_result"
    }
   ],
   "source": [
    "salary_by_title= pd.DataFrame(period_df.groupby([\"Month\",\"Dimension\"]).mean()['Value'])\n",
    "salary_by_title.head()\n"
   ]
  },
  {
   "cell_type": "code",
   "execution_count": 13,
   "metadata": {},
   "outputs": [],
   "source": [
    "title_df = salary_by_title.reset_index().set_index('Month')"
   ]
  },
  {
   "cell_type": "code",
   "execution_count": 14,
   "metadata": {},
   "outputs": [],
   "source": [
    "title_df[['Data Analyst']] = title_df.groupby('Dimension').get_group('Data Analyst')[['Value']]\n",
    "title_df[['Data Scientist']] = title_df.groupby('Dimension').get_group('Data Scientist')[['Value']]\n",
    "title_df[['Business Analyst']] = title_df.groupby('Dimension').get_group('Business Analyst')[['Value']]"
   ]
  },
  {
   "cell_type": "code",
   "execution_count": 15,
   "metadata": {},
   "outputs": [],
   "source": [
    "grouped_by_title = title_df[['Data Analyst', 'Data Scientist', 'Business Analyst']]"
   ]
  },
  {
   "cell_type": "code",
   "execution_count": 16,
   "metadata": {},
   "outputs": [],
   "source": [
    "position_graph = grouped_by_title[~grouped_by_title.index.duplicated(keep='first')]"
   ]
  },
  {
   "cell_type": "code",
   "execution_count": 17,
   "metadata": {},
   "outputs": [
    {
     "data": {
      "image/png": "[encoded data removed]",
      "text/plain": [
       "<Figure size 720x360 with 1 Axes>"
      ]
     },
     "metadata": {},
     "output_type": "display_data"
    }
   ],
   "source": [
    "position_graph.plot(kind = 'bar',alpha=0.5, align='center', width = .7, figsize = (10,5))\n",
    "\n",
    "plt.title(\"Median Salary Trend\")\n",
    "plt.xlabel(\"Period\")\n",
    "plt.ylabel(\"Median Base Pay ($)\")\n",
    "\n",
    "lgnd = plt.legend(fontsize=\"small\", mode=\"Expanded\", \n",
    "                  numpoints=1, \n",
    "                  loc=(1.1,.7), title=\"Job Titles\", \n",
    "                  labelspacing=0.5)\n",
    "\n",
    "margin = 0.05\n",
    "\n",
    "plt.savefig('trend_by_period.png')"
   ]
  },
  {
   "cell_type": "markdown",
   "metadata": {},
   "source": [
    "## Dataframe 2 - Median Salary Trend by Region"
   ]
  },
  {
   "cell_type": "code",
   "execution_count": 18,
   "metadata": {},
   "outputs": [
    {
     "data": {
      "text/html": [
       "<div>\n",
       "<style scoped>\n",
       "    .dataframe tbody tr th:only-of-type {\n",
       "        vertical-align: middle;\n",
       "    }\n",
       "\n",
       "    .dataframe tbody tr th {\n",
       "        vertical-align: top;\n",
       "    }\n",
       "\n",
       "    .dataframe thead th {\n",
       "        text-align: right;\n",
       "    }\n",
       "</style>\n",
       "<table border=\"1\" class=\"dataframe\">\n",
       "  <thead>\n",
       "    <tr style=\"text-align: right;\">\n",
       "      <th></th>\n",
       "      <th>Metro</th>\n",
       "      <th>Dimension</th>\n",
       "      <th>Value</th>\n",
       "    </tr>\n",
       "  </thead>\n",
       "  <tbody>\n",
       "    <tr>\n",
       "      <th>36</th>\n",
       "      <td>National</td>\n",
       "      <td>Business Analyst</td>\n",
       "      <td>65004.0</td>\n",
       "    </tr>\n",
       "    <tr>\n",
       "      <th>59</th>\n",
       "      <td>National</td>\n",
       "      <td>Data Scientist</td>\n",
       "      <td>94912.0</td>\n",
       "    </tr>\n",
       "    <tr>\n",
       "      <th>61</th>\n",
       "      <td>National</td>\n",
       "      <td>Data Analyst</td>\n",
       "      <td>60374.0</td>\n",
       "    </tr>\n",
       "    <tr>\n",
       "      <th>120</th>\n",
       "      <td>Atlanta</td>\n",
       "      <td>Business Analyst</td>\n",
       "      <td>72012.0</td>\n",
       "    </tr>\n",
       "    <tr>\n",
       "      <th>143</th>\n",
       "      <td>Atlanta</td>\n",
       "      <td>Data Scientist</td>\n",
       "      <td>98512.0</td>\n",
       "    </tr>\n",
       "  </tbody>\n",
       "</table>\n",
       "</div>"
      ],
      "text/plain": [
       "        Metro         Dimension    Value\n",
       "36   National  Business Analyst  65004.0\n",
       "59   National    Data Scientist  94912.0\n",
       "61   National      Data Analyst  60374.0\n",
       "120   Atlanta  Business Analyst  72012.0\n",
       "143   Atlanta    Data Scientist  98512.0"
      ]
     },
     "execution_count": 18,
     "metadata": {},
     "output_type": "execute_result"
    }
   ],
   "source": [
    "region_df = filtered_df[['Metro','Dimension','Value']]\n",
    "region_df.head()"
   ]
  },
  {
   "cell_type": "code",
   "execution_count": 19,
   "metadata": {},
   "outputs": [
    {
     "data": {
      "text/html": [
       "<div>\n",
       "<style scoped>\n",
       "    .dataframe tbody tr th:only-of-type {\n",
       "        vertical-align: middle;\n",
       "    }\n",
       "\n",
       "    .dataframe tbody tr th {\n",
       "        vertical-align: top;\n",
       "    }\n",
       "\n",
       "    .dataframe thead th {\n",
       "        text-align: right;\n",
       "    }\n",
       "</style>\n",
       "<table border=\"1\" class=\"dataframe\">\n",
       "  <thead>\n",
       "    <tr style=\"text-align: right;\">\n",
       "      <th></th>\n",
       "      <th></th>\n",
       "      <th>Value</th>\n",
       "    </tr>\n",
       "    <tr>\n",
       "      <th>Metro</th>\n",
       "      <th>Dimension</th>\n",
       "      <th></th>\n",
       "    </tr>\n",
       "  </thead>\n",
       "  <tbody>\n",
       "    <tr>\n",
       "      <th rowspan=\"3\" valign=\"top\">Atlanta</th>\n",
       "      <th>Business Analyst</th>\n",
       "      <td>71666.600000</td>\n",
       "    </tr>\n",
       "    <tr>\n",
       "      <th>Data Analyst</th>\n",
       "      <td>65070.333333</td>\n",
       "    </tr>\n",
       "    <tr>\n",
       "      <th>Data Scientist</th>\n",
       "      <td>96154.000000</td>\n",
       "    </tr>\n",
       "    <tr>\n",
       "      <th rowspan=\"2\" valign=\"top\">Boston</th>\n",
       "      <th>Business Analyst</th>\n",
       "      <td>75578.071429</td>\n",
       "    </tr>\n",
       "    <tr>\n",
       "      <th>Data Analyst</th>\n",
       "      <td>69902.571429</td>\n",
       "    </tr>\n",
       "  </tbody>\n",
       "</table>\n",
       "</div>"
      ],
      "text/plain": [
       "                                 Value\n",
       "Metro   Dimension                     \n",
       "Atlanta Business Analyst  71666.600000\n",
       "        Data Analyst      65070.333333\n",
       "        Data Scientist    96154.000000\n",
       "Boston  Business Analyst  75578.071429\n",
       "        Data Analyst      69902.571429"
      ]
     },
     "execution_count": 19,
     "metadata": {},
     "output_type": "execute_result"
    }
   ],
   "source": [
    "salary_by_region= pd.DataFrame(region_df.groupby([\"Metro\",\"Dimension\"]).mean()['Value'])\n",
    "salary_by_region.head()\n",
    "\n",
    "#region_average"
   ]
  },
  {
   "cell_type": "code",
   "execution_count": 20,
   "metadata": {},
   "outputs": [],
   "source": [
    "title_region_df = salary_by_region.reset_index().set_index('Metro')\n",
    "#title_region_df"
   ]
  },
  {
   "cell_type": "code",
   "execution_count": 21,
   "metadata": {},
   "outputs": [],
   "source": [
    "title_region_df[['Data Analyst']] = title_region_df.groupby('Dimension').get_group('Data Analyst')[['Value']]\n",
    "title_region_df[['Data Scientist']] = title_region_df.groupby('Dimension').get_group('Data Scientist')[['Value']]"
   ]
  },
  {
   "cell_type": "code",
   "execution_count": 22,
   "metadata": {},
   "outputs": [],
   "source": [
    "grouped_by_title2 = title_region_df[['Data Analyst', 'Data Scientist']]"
   ]
  },
  {
   "cell_type": "code",
   "execution_count": 23,
   "metadata": {},
   "outputs": [
    {
     "data": {
      "text/html": [
       "<div>\n",
       "<style scoped>\n",
       "    .dataframe tbody tr th:only-of-type {\n",
       "        vertical-align: middle;\n",
       "    }\n",
       "\n",
       "    .dataframe tbody tr th {\n",
       "        vertical-align: top;\n",
       "    }\n",
       "\n",
       "    .dataframe thead th {\n",
       "        text-align: right;\n",
       "    }\n",
       "</style>\n",
       "<table border=\"1\" class=\"dataframe\">\n",
       "  <thead>\n",
       "    <tr style=\"text-align: right;\">\n",
       "      <th></th>\n",
       "      <th>Data Analyst</th>\n",
       "      <th>Data Scientist</th>\n",
       "    </tr>\n",
       "    <tr>\n",
       "      <th>Metro</th>\n",
       "      <th></th>\n",
       "      <th></th>\n",
       "    </tr>\n",
       "  </thead>\n",
       "  <tbody>\n",
       "    <tr>\n",
       "      <th>Atlanta</th>\n",
       "      <td>65070.333333</td>\n",
       "      <td>96154.000000</td>\n",
       "    </tr>\n",
       "    <tr>\n",
       "      <th>Boston</th>\n",
       "      <td>69902.571429</td>\n",
       "      <td>109327.428571</td>\n",
       "    </tr>\n",
       "    <tr>\n",
       "      <th>Chicago</th>\n",
       "      <td>65282.857143</td>\n",
       "      <td>100557.571429</td>\n",
       "    </tr>\n",
       "    <tr>\n",
       "      <th>Houston</th>\n",
       "      <td>64070.285714</td>\n",
       "      <td>105633.571429</td>\n",
       "    </tr>\n",
       "    <tr>\n",
       "      <th>Los Angeles</th>\n",
       "      <td>71498.928571</td>\n",
       "      <td>115952.785714</td>\n",
       "    </tr>\n",
       "    <tr>\n",
       "      <th>National</th>\n",
       "      <td>59125.642857</td>\n",
       "      <td>95620.285714</td>\n",
       "    </tr>\n",
       "    <tr>\n",
       "      <th>New York City</th>\n",
       "      <td>71451.785714</td>\n",
       "      <td>113369.785714</td>\n",
       "    </tr>\n",
       "    <tr>\n",
       "      <th>Philadelphia</th>\n",
       "      <td>63029.071429</td>\n",
       "      <td>98255.642857</td>\n",
       "    </tr>\n",
       "    <tr>\n",
       "      <th>San Francisco</th>\n",
       "      <td>88754.357143</td>\n",
       "      <td>136822.000000</td>\n",
       "    </tr>\n",
       "    <tr>\n",
       "      <th>Seattle</th>\n",
       "      <td>71537.857143</td>\n",
       "      <td>124330.642857</td>\n",
       "    </tr>\n",
       "    <tr>\n",
       "      <th>Washington DC</th>\n",
       "      <td>71670.428571</td>\n",
       "      <td>104350.071429</td>\n",
       "    </tr>\n",
       "  </tbody>\n",
       "</table>\n",
       "</div>"
      ],
      "text/plain": [
       "               Data Analyst  Data Scientist\n",
       "Metro                                      \n",
       "Atlanta        65070.333333    96154.000000\n",
       "Boston         69902.571429   109327.428571\n",
       "Chicago        65282.857143   100557.571429\n",
       "Houston        64070.285714   105633.571429\n",
       "Los Angeles    71498.928571   115952.785714\n",
       "National       59125.642857    95620.285714\n",
       "New York City  71451.785714   113369.785714\n",
       "Philadelphia   63029.071429    98255.642857\n",
       "San Francisco  88754.357143   136822.000000\n",
       "Seattle        71537.857143   124330.642857\n",
       "Washington DC  71670.428571   104350.071429"
      ]
     },
     "execution_count": 23,
     "metadata": {},
     "output_type": "execute_result"
    }
   ],
   "source": [
    "region_graph = grouped_by_title2[~grouped_by_title2.index.duplicated(keep='first')]\n",
    "region_graph"
   ]
  },
  {
   "cell_type": "code",
   "execution_count": 24,
   "metadata": {},
   "outputs": [
    {
     "data": {
      "image/png": "[encoded data removed]",
      "text/plain": [
       "<Figure size 720x360 with 1 Axes>"
      ]
     },
     "metadata": {},
     "output_type": "display_data"
    }
   ],
   "source": [
    "region_graph[['Data Analyst']].plot(kind='bar', y = 'Data Analyst', yticks = None,legend = False, \n",
    "                                    fontsize=10, figsize = (10,5))\n",
    "\n",
    "plt.title(\"Average Data Analyst Salary by Region ($)\")\n",
    "plt.xlabel(\"Metro Cities\")\n",
    "plt.ylabel(\"Median Base Salary ($)\")\n",
    "#plt.grid(True)\n",
    "\n",
    "plt.savefig('Data_Analyst_Cities.png')"
   ]
  },
  {
   "cell_type": "code",
   "execution_count": 25,
   "metadata": {},
   "outputs": [
    {
     "data": {
      "image/png": "[encoded data removed]",
      "text/plain": [
       "<Figure size 720x360 with 1 Axes>"
      ]
     },
     "metadata": {},
     "output_type": "display_data"
    }
   ],
   "source": [
    "region_graph[['Data Scientist']].plot(kind='bar', y = 'Data Scientist', yticks = None,legend = False, \n",
    "                                      fontsize=10, figsize = (10,5))\n",
    "\n",
    "plt.title(\"Average Data Scientist Salary by Region ($)\")\n",
    "plt.xlabel(\"Metro Cities\")\n",
    "plt.ylabel(\"Median Base Salary ($)\")\n",
    "\n",
    "plt.savefig('Data_Scientiest_Cities.png')"
   ]
  },
  {
   "cell_type": "code",
   "execution_count": null,
   "metadata": {},
   "outputs": [],
   "source": []
  }
 ],
 "metadata": {
  "kernelspec": {
   "display_name": "Python 3",
   "language": "python",
   "name": "python3"
  },
  "language_info": {
   "codemirror_mode": {
    "name": "ipython",
    "version": 3
   },
   "file_extension": ".py",
   "mimetype": "text/x-python",
   "name": "python",
   "nbconvert_exporter": "python",
   "pygments_lexer": "ipython3",
   "version": "3.6.5"
  }
 },
 "nbformat": 4,
 "nbformat_minor": 2
}
