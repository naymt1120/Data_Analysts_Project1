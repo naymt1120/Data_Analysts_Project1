{
 "cells": [
  {
   "cell_type": "code",
   "execution_count": null,
   "metadata": {},
   "outputs": [],
   "source": [
    "# Welcome to the script!"
   ]
  },
  {
   "cell_type": "code",
   "execution_count": null,
   "metadata": {},
   "outputs": [],
   "source": []
  },
  {
   "cell_type": "code",
   "execution_count": 1,
   "metadata": {},
   "outputs": [],
   "source": [
    "#import Dependencies\n",
    "import numpy as np\n",
    "import pandas as pd\n",
    "import matplotlib.pyplot as plt\n",
    "%matplotlib inline"
   ]
  },
  {
   "cell_type": "code",
   "execution_count": 8,
   "metadata": {},
   "outputs": [],
   "source": [
    "# set filepath and establish DataFrame\n",
    "googdf = pd.read_csv('../CSV_Folder/job_skills.csv')\n",
    "monsterdf = pd.read_csv('../CSV_Folder/Monster_Com_Job_Sample.csv')"
   ]
  },
  {
   "cell_type": "code",
   "execution_count": 9,
   "metadata": {
    "scrolled": true
   },
   "outputs": [
    {
     "name": "stdout",
     "output_type": "stream",
     "text": [
      "Number of Google job results: 1250\n",
      "Number of Monster Analyst job results: 74\n",
      "\n",
      "Index(['Company', 'Title', 'Category', 'Location', 'Responsibilities',\n",
      "       'Minimum Qualifications', 'Preferred Qualifications'],\n",
      "      dtype='object')\n",
      "Index(['country', 'country_code', 'date_added', 'has_expired', 'job_board',\n",
      "       'Job_Description', 'Requirement', 'Job_Title', 'Job_Type', 'Location',\n",
      "       'Organization', 'Page_URL', 'Salary', 'Sector', 'Uniq_ID'],\n",
      "      dtype='object')\n",
      "\n",
      "Sales & Account Management          168\n",
      "Marketing & Communications          165\n",
      "Finance                             115\n",
      "Technical Solutions                 101\n",
      "Business Strategy                    98\n",
      "People Operations                    86\n",
      "User Experience & Design             84\n",
      "Program Management                   74\n",
      "Partnerships                         60\n",
      "Product & Customer Support           50\n",
      "Legal & Government Relations         46\n",
      "Administrative                       40\n",
      "Sales Operations                     31\n",
      "Software Engineering                 31\n",
      "Hardware Engineering                 26\n",
      "Real Estate & Workplace Services     25\n",
      "Manufacturing & Supply Chain         16\n",
      "Technical Infrastructure             11\n",
      "Network Engineering                   6\n",
      "IT & Data Management                  5\n",
      "Developer Relations                   5\n",
      "Technical Writing                     5\n",
      "Data Center & Network                 2\n",
      "Name: Category, dtype: int64\n",
      "Computer/IT Services                                        19\n",
      "Other/Not Classified                                         6\n",
      "All                                                          5\n",
      "Legal Services                                               2\n",
      "Computer Hardware Computer Software Computer/IT Services     2\n",
      "Banking                                                      1\n",
      "Healthcare Services                                          1\n",
      "Financial Services                                           1\n",
      "Montgomery, OH                                               1\n",
      "Manufacturing - Other                                        1\n",
      "Travel, Transportation and Tourism                           1\n",
      "Houston, TX                                                  1\n",
      "Computer Software                                            1\n",
      "Government and Military                                      1\n",
      "Business Services - Other                                    1\n",
      "Biotechnology/Pharmaceuticals                                1\n",
      "Name: Organization, dtype: int64\n"
     ]
    }
   ],
   "source": [
    "# Is it working?\n",
    "print(f\"Number of Google job results: {len(googdf)}\")\n",
    "print(f\"Number of Monster Analyst job results: {len(monsterdf['Organization'])}\\n\")\n",
    "\n",
    "print(googdf.columns)\n",
    "print(f\"{monsterdf.columns}\\n\")\n",
    "\n",
    "print(googdf['Category'].value_counts())\n",
    "print(monsterdf['Organization'].value_counts())"
   ]
  },
  {
   "cell_type": "code",
   "execution_count": 10,
   "metadata": {},
   "outputs": [
    {
     "name": "stdout",
     "output_type": "stream",
     "text": [
      "Number of Google job results: 1235\n",
      "Number of Monster Analyst job results: 74\n",
      "\n"
     ]
    }
   ],
   "source": [
    "# Drop the incomplete rows and reset the index.\n",
    "googdf = googdf.dropna(how='any',axis='rows')\n",
    "googdf = googdf.reset_index(drop=True)\n",
    "\n",
    "# Check their length again\n",
    "print(f\"Number of Google job results: {len(googdf)}\")\n",
    "print(f\"Number of Monster Analyst job results: {len(monsterdf['Organization'])}\\n\")"
   ]
  },
  {
   "cell_type": "code",
   "execution_count": 11,
   "metadata": {},
   "outputs": [
    {
     "data": {
      "text/html": [
       "<div>\n",
       "<style scoped>\n",
       "    .dataframe tbody tr th:only-of-type {\n",
       "        vertical-align: middle;\n",
       "    }\n",
       "\n",
       "    .dataframe tbody tr th {\n",
       "        vertical-align: top;\n",
       "    }\n",
       "\n",
       "    .dataframe thead th {\n",
       "        text-align: right;\n",
       "    }\n",
       "</style>\n",
       "<table border=\"1\" class=\"dataframe\">\n",
       "  <thead>\n",
       "    <tr style=\"text-align: right;\">\n",
       "      <th></th>\n",
       "      <th>Company</th>\n",
       "      <th>Title</th>\n",
       "      <th>Category</th>\n",
       "      <th>Location</th>\n",
       "      <th>Responsibilities</th>\n",
       "      <th>Minimum Qualifications</th>\n",
       "      <th>Preferred Qualifications</th>\n",
       "    </tr>\n",
       "  </thead>\n",
       "  <tbody>\n",
       "    <tr>\n",
       "      <th>0</th>\n",
       "      <td>Google</td>\n",
       "      <td>Google Cloud Program Manager</td>\n",
       "      <td>Program Management</td>\n",
       "      <td>Singapore</td>\n",
       "      <td>Shape, shepherd, ship, and show technical prog...</td>\n",
       "      <td>BA/BS degree or equivalent practical experienc...</td>\n",
       "      <td>Experience in the business technology market a...</td>\n",
       "    </tr>\n",
       "  </tbody>\n",
       "</table>\n",
       "</div>"
      ],
      "text/plain": [
       "  Company                         Title            Category   Location  \\\n",
       "0  Google  Google Cloud Program Manager  Program Management  Singapore   \n",
       "\n",
       "                                    Responsibilities  \\\n",
       "0  Shape, shepherd, ship, and show technical prog...   \n",
       "\n",
       "                              Minimum Qualifications  \\\n",
       "0  BA/BS degree or equivalent practical experienc...   \n",
       "\n",
       "                            Preferred Qualifications  \n",
       "0  Experience in the business technology market a...  "
      ]
     },
     "execution_count": 11,
     "metadata": {},
     "output_type": "execute_result"
    }
   ],
   "source": [
    "googdf.head(1)"
   ]
  },
  {
   "cell_type": "code",
   "execution_count": 12,
   "metadata": {},
   "outputs": [
    {
     "data": {
      "text/html": [
       "<div>\n",
       "<style scoped>\n",
       "    .dataframe tbody tr th:only-of-type {\n",
       "        vertical-align: middle;\n",
       "    }\n",
       "\n",
       "    .dataframe tbody tr th {\n",
       "        vertical-align: top;\n",
       "    }\n",
       "\n",
       "    .dataframe thead th {\n",
       "        text-align: right;\n",
       "    }\n",
       "</style>\n",
       "<table border=\"1\" class=\"dataframe\">\n",
       "  <thead>\n",
       "    <tr style=\"text-align: right;\">\n",
       "      <th></th>\n",
       "      <th>country</th>\n",
       "      <th>country_code</th>\n",
       "      <th>date_added</th>\n",
       "      <th>has_expired</th>\n",
       "      <th>job_board</th>\n",
       "      <th>Job_Description</th>\n",
       "      <th>Requirement</th>\n",
       "      <th>Job_Title</th>\n",
       "      <th>Job_Type</th>\n",
       "      <th>Location</th>\n",
       "      <th>Organization</th>\n",
       "      <th>Page_URL</th>\n",
       "      <th>Salary</th>\n",
       "      <th>Sector</th>\n",
       "      <th>Uniq_ID</th>\n",
       "    </tr>\n",
       "  </thead>\n",
       "  <tbody>\n",
       "    <tr>\n",
       "      <th>0</th>\n",
       "      <td>United States of America</td>\n",
       "      <td>US</td>\n",
       "      <td>NaN</td>\n",
       "      <td>No</td>\n",
       "      <td>jobs.monster.com</td>\n",
       "      <td>Business &amp; Strategy AnalystOne of our top clie...</td>\n",
       "      <td>NaN</td>\n",
       "      <td>Business &amp; Strategy Analyst</td>\n",
       "      <td>Full Time, Employee</td>\n",
       "      <td>Houston, TX</td>\n",
       "      <td>Legal Services</td>\n",
       "      <td>http://jobview.monster.com/Business-amp-Strate...</td>\n",
       "      <td>NaN</td>\n",
       "      <td>Business/Strategic Management</td>\n",
       "      <td>9331cb7b561348a692f7afc58ac78926</td>\n",
       "    </tr>\n",
       "  </tbody>\n",
       "</table>\n",
       "</div>"
      ],
      "text/plain": [
       "                    country country_code  date_added has_expired  \\\n",
       "0  United States of America           US         NaN          No   \n",
       "\n",
       "          job_board                                    Job_Description  \\\n",
       "0  jobs.monster.com  Business & Strategy AnalystOne of our top clie...   \n",
       "\n",
       "   Requirement                    Job_Title             Job_Type     Location  \\\n",
       "0          NaN  Business & Strategy Analyst  Full Time, Employee  Houston, TX   \n",
       "\n",
       "     Organization                                           Page_URL Salary  \\\n",
       "0  Legal Services  http://jobview.monster.com/Business-amp-Strate...    NaN   \n",
       "\n",
       "                          Sector                           Uniq_ID  \n",
       "0  Business/Strategic Management  9331cb7b561348a692f7afc58ac78926  "
      ]
     },
     "execution_count": 12,
     "metadata": {},
     "output_type": "execute_result"
    }
   ],
   "source": [
    "monsterdf.head(1)"
   ]
  },
  {
   "cell_type": "code",
   "execution_count": 13,
   "metadata": {},
   "outputs": [],
   "source": [
    "BA_list = ['BA']\n",
    "BS_list = ['BS']\n",
    "Bachelor_list = ['BA/BS', 'BS/BA', 'bs/ba', 'Ba/Bs', 'ba/bs','Bachelor', 'bachelor']\n",
    "Master_list = ['Master', 'master']\n",
    "MBA_list = ['MBA', 'Mba', 'mba']\n",
    "PhD_list = ['PHD', 'PhD', 'phD', 'phd', 'Phd', 'Ph.D']\n",
    "PhD_re = \"[pP][hH][dD]\"\n",
    "degree_list = [PhD_list, MBA_list, Master_list, Bachelor_list, BS_list, BA_list]\n",
    "degrees = [\"PhD\", \"MBA\", \"Master's\", \"Bachelor's\", \"BA\", \"BS\", \"GED\"]"
   ]
  },
  {
   "cell_type": "code",
   "execution_count": 14,
   "metadata": {},
   "outputs": [],
   "source": [
    "# make an array that will hold the degree requirements\n",
    "DegreeColumn1 = []\n",
    "\n",
    "for row in range(len(googdf['Minimum Qualifications'])):    \n",
    "    go=True\n",
    "    if go==True:\n",
    "        for word_phd in PhD_list:\n",
    "            if word_phd in googdf['Minimum Qualifications'][row]:\n",
    "                DegreeColumn1.append(\"PhD\")\n",
    "                go=False\n",
    "                break\n",
    "    if go==True:\n",
    "        for word_mba in MBA_list:\n",
    "            if word_mba in googdf['Minimum Qualifications'][row]:\n",
    "                DegreeColumn1.append(\"MBA\")\n",
    "                go=False\n",
    "                break\n",
    "\n",
    "    if go==True:\n",
    "        for word_master in Master_list:\n",
    "            if word_master in googdf['Minimum Qualifications'][row]:\n",
    "                DegreeColumn1.append(\"Master's\")\n",
    "                go=False\n",
    "                break\n",
    "    if go==True:\n",
    "        for word_bachelor in Bachelor_list:\n",
    "            if word_bachelor in googdf['Minimum Qualifications'][row]:\n",
    "                DegreeColumn1.append(\"Bachelor's\")\n",
    "                go=False\n",
    "                break\n",
    "    if go==True:\n",
    "        for word_ba in BA_list:\n",
    "            if word_ba in googdf['Minimum Qualifications'][row]:\n",
    "                DegreeColumn1.append(\"BA\")\n",
    "                go=False\n",
    "                break\n",
    "    if go==True:\n",
    "\n",
    "        for word_bs in BS_list:\n",
    "            if word_bs in googdf['Minimum Qualifications'][row]:\n",
    "                DegreeColumn1.append(\"BS\")\n",
    "                go=False\n",
    "                break\n",
    "    if go==True:\n",
    "        DegreeColumn1.append('No Mention')            "
   ]
  },
  {
   "cell_type": "code",
   "execution_count": 16,
   "metadata": {},
   "outputs": [],
   "source": [
    "DegreeColumn2 = []\n",
    "\n",
    "for row in range(len(monsterdf['Job_Description'])):    \n",
    "    go=True\n",
    "    if go==True:\n",
    "        for word_phd in PhD_list:\n",
    "            if word_phd in monsterdf['Job_Description'][row]:\n",
    "                DegreeColumn2.append(\"PhD\")       \n",
    "                go=False\n",
    "                break\n",
    "    if go==True:\n",
    "        for word_mba in MBA_list:\n",
    "            if word_mba in monsterdf['Job_Description'][row]:\n",
    "                DegreeColumn2.append(\"MBA\")\n",
    "                go=False\n",
    "                break\n",
    "\n",
    "    if go==True:\n",
    "        for word_master in Master_list:\n",
    "            if word_master in monsterdf['Job_Description'][row]:\n",
    "                DegreeColumn2.append(\"Master's\")\n",
    "                go=False\n",
    "                break\n",
    "    if go==True:\n",
    "        for word_bachelor in Bachelor_list:\n",
    "            if word_bachelor in monsterdf['Job_Description'][row]:\n",
    "                DegreeColumn2.append(\"Bachelor's\")\n",
    "                go=False\n",
    "                break\n",
    "    if go==True:\n",
    "        for word_ba in BA_list:\n",
    "            if word_ba in monsterdf['Job_Description'][row]:\n",
    "                DegreeColumn2.append(\"BA\")\n",
    "                go=False\n",
    "                break\n",
    "    if go==True:\n",
    "\n",
    "        for word_bs in BS_list:\n",
    "            if word_bs in monsterdf['Job_Description'][row]:\n",
    "                DegreeColumn2.append(\"BS\")\n",
    "                go=False\n",
    "                break\n",
    "    if go==True:\n",
    "        DegreeColumn2.append('No Mention')            "
   ]
  },
  {
   "cell_type": "code",
   "execution_count": 17,
   "metadata": {},
   "outputs": [
    {
     "name": "stdout",
     "output_type": "stream",
     "text": [
      "1235\n",
      "1235\n",
      "74\n",
      "74\n",
      "[\"Bachelor's\", 'BS', \"Bachelor's\", \"Bachelor's\", \"Bachelor's\", \"Bachelor's\", 'BS', \"Bachelor's\", \"Bachelor's\", \"Bachelor's\", \"Bachelor's\", \"Bachelor's\", \"Bachelor's\", \"Bachelor's\", \"Bachelor's\", \"Bachelor's\", \"Bachelor's\", \"Bachelor's\", 'BS', 'PhD']\n",
      "[\"Bachelor's\", 'No Mention', \"Master's\", 'No Mention', 'No Mention', 'No Mention', 'No Mention', 'No Mention', 'No Mention', 'BA', 'No Mention', 'BA', 'BA', \"Bachelor's\", \"Bachelor's\", 'BA', 'BA', 'No Mention', 'BA', 'No Mention']\n"
     ]
    }
   ],
   "source": [
    "# test the length of the array to see if it is the same length of the DataFrame.\n",
    "# if it is the same length, then it is probably safe to make a new column.\n",
    "print(len(DegreeColumn1))\n",
    "print(len(googdf['Minimum Qualifications']))\n",
    "print(len(DegreeColumn2))\n",
    "print(len(monsterdf['Job_Description']))\n",
    "# test to make sure the array looks good\n",
    "print(DegreeColumn1[0:20])\n",
    "print(DegreeColumn2[0:20])  "
   ]
  },
  {
   "cell_type": "code",
   "execution_count": 18,
   "metadata": {},
   "outputs": [],
   "source": [
    "# add the column to the google dataframe and the monster dataframe\n",
    "googdf['Degree Requirement'] = DegreeColumn1\n",
    "monsterdf['Degree Requirement'] = DegreeColumn2\n",
    "# sepparate the dataset into analysts and non-analysts(the monster dataset is all analysts)\n",
    "googdf_analyst = googdf[googdf['Category'] == 'IT & Data Management']\n",
    "googdf_not_analyst = googdf[googdf['Category'] != 'IT & Data Management']"
   ]
  },
  {
   "cell_type": "code",
   "execution_count": 19,
   "metadata": {},
   "outputs": [
    {
     "data": {
      "text/html": [
       "<div>\n",
       "<style scoped>\n",
       "    .dataframe tbody tr th:only-of-type {\n",
       "        vertical-align: middle;\n",
       "    }\n",
       "\n",
       "    .dataframe tbody tr th {\n",
       "        vertical-align: top;\n",
       "    }\n",
       "\n",
       "    .dataframe thead th {\n",
       "        text-align: right;\n",
       "    }\n",
       "</style>\n",
       "<table border=\"1\" class=\"dataframe\">\n",
       "  <thead>\n",
       "    <tr style=\"text-align: right;\">\n",
       "      <th></th>\n",
       "      <th>Company</th>\n",
       "      <th>Title</th>\n",
       "      <th>Category</th>\n",
       "      <th>Location</th>\n",
       "      <th>Responsibilities</th>\n",
       "      <th>Minimum Qualifications</th>\n",
       "      <th>Preferred Qualifications</th>\n",
       "      <th>Degree Requirement</th>\n",
       "    </tr>\n",
       "  </thead>\n",
       "  <tbody>\n",
       "    <tr>\n",
       "      <th>128</th>\n",
       "      <td>Google</td>\n",
       "      <td>Linguist, Natural Language Understanding, Mach...</td>\n",
       "      <td>IT &amp; Data Management</td>\n",
       "      <td>Zürich, Switzerland</td>\n",
       "      <td>Work closely with researchers and engineers by...</td>\n",
       "      <td>Ph.D in Linguistics/Computational Linguistics,...</td>\n",
       "      <td>Multilingual speaker with 2 years of experienc...</td>\n",
       "      <td>PhD</td>\n",
       "    </tr>\n",
       "  </tbody>\n",
       "</table>\n",
       "</div>"
      ],
      "text/plain": [
       "    Company                                              Title  \\\n",
       "128  Google  Linguist, Natural Language Understanding, Mach...   \n",
       "\n",
       "                 Category             Location  \\\n",
       "128  IT & Data Management  Zürich, Switzerland   \n",
       "\n",
       "                                      Responsibilities  \\\n",
       "128  Work closely with researchers and engineers by...   \n",
       "\n",
       "                                Minimum Qualifications  \\\n",
       "128  Ph.D in Linguistics/Computational Linguistics,...   \n",
       "\n",
       "                              Preferred Qualifications Degree Requirement  \n",
       "128  Multilingual speaker with 2 years of experienc...                PhD  "
      ]
     },
     "execution_count": 19,
     "metadata": {},
     "output_type": "execute_result"
    }
   ],
   "source": [
    "googdf_analyst.head(1)"
   ]
  },
  {
   "cell_type": "code",
   "execution_count": 20,
   "metadata": {},
   "outputs": [
    {
     "data": {
      "text/html": [
       "<div>\n",
       "<style scoped>\n",
       "    .dataframe tbody tr th:only-of-type {\n",
       "        vertical-align: middle;\n",
       "    }\n",
       "\n",
       "    .dataframe tbody tr th {\n",
       "        vertical-align: top;\n",
       "    }\n",
       "\n",
       "    .dataframe thead th {\n",
       "        text-align: right;\n",
       "    }\n",
       "</style>\n",
       "<table border=\"1\" class=\"dataframe\">\n",
       "  <thead>\n",
       "    <tr style=\"text-align: right;\">\n",
       "      <th></th>\n",
       "      <th>Company</th>\n",
       "      <th>Title</th>\n",
       "      <th>Category</th>\n",
       "      <th>Location</th>\n",
       "      <th>Responsibilities</th>\n",
       "      <th>Minimum Qualifications</th>\n",
       "      <th>Preferred Qualifications</th>\n",
       "      <th>Degree Requirement</th>\n",
       "    </tr>\n",
       "  </thead>\n",
       "  <tbody>\n",
       "    <tr>\n",
       "      <th>0</th>\n",
       "      <td>Google</td>\n",
       "      <td>Google Cloud Program Manager</td>\n",
       "      <td>Program Management</td>\n",
       "      <td>Singapore</td>\n",
       "      <td>Shape, shepherd, ship, and show technical prog...</td>\n",
       "      <td>BA/BS degree or equivalent practical experienc...</td>\n",
       "      <td>Experience in the business technology market a...</td>\n",
       "      <td>Bachelor's</td>\n",
       "    </tr>\n",
       "  </tbody>\n",
       "</table>\n",
       "</div>"
      ],
      "text/plain": [
       "  Company                         Title            Category   Location  \\\n",
       "0  Google  Google Cloud Program Manager  Program Management  Singapore   \n",
       "\n",
       "                                    Responsibilities  \\\n",
       "0  Shape, shepherd, ship, and show technical prog...   \n",
       "\n",
       "                              Minimum Qualifications  \\\n",
       "0  BA/BS degree or equivalent practical experienc...   \n",
       "\n",
       "                            Preferred Qualifications Degree Requirement  \n",
       "0  Experience in the business technology market a...         Bachelor's  "
      ]
     },
     "execution_count": 20,
     "metadata": {},
     "output_type": "execute_result"
    }
   ],
   "source": [
    "googdf_not_analyst.head(1)"
   ]
  },
  {
   "cell_type": "code",
   "execution_count": 21,
   "metadata": {},
   "outputs": [
    {
     "data": {
      "text/html": [
       "<div>\n",
       "<style scoped>\n",
       "    .dataframe tbody tr th:only-of-type {\n",
       "        vertical-align: middle;\n",
       "    }\n",
       "\n",
       "    .dataframe tbody tr th {\n",
       "        vertical-align: top;\n",
       "    }\n",
       "\n",
       "    .dataframe thead th {\n",
       "        text-align: right;\n",
       "    }\n",
       "</style>\n",
       "<table border=\"1\" class=\"dataframe\">\n",
       "  <thead>\n",
       "    <tr style=\"text-align: right;\">\n",
       "      <th></th>\n",
       "      <th>country</th>\n",
       "      <th>country_code</th>\n",
       "      <th>date_added</th>\n",
       "      <th>has_expired</th>\n",
       "      <th>job_board</th>\n",
       "      <th>Job_Description</th>\n",
       "      <th>Requirement</th>\n",
       "      <th>Job_Title</th>\n",
       "      <th>Job_Type</th>\n",
       "      <th>Location</th>\n",
       "      <th>Organization</th>\n",
       "      <th>Page_URL</th>\n",
       "      <th>Salary</th>\n",
       "      <th>Sector</th>\n",
       "      <th>Uniq_ID</th>\n",
       "      <th>Degree Requirement</th>\n",
       "    </tr>\n",
       "  </thead>\n",
       "  <tbody>\n",
       "    <tr>\n",
       "      <th>0</th>\n",
       "      <td>United States of America</td>\n",
       "      <td>US</td>\n",
       "      <td>NaN</td>\n",
       "      <td>No</td>\n",
       "      <td>jobs.monster.com</td>\n",
       "      <td>Business &amp; Strategy AnalystOne of our top clie...</td>\n",
       "      <td>NaN</td>\n",
       "      <td>Business &amp; Strategy Analyst</td>\n",
       "      <td>Full Time, Employee</td>\n",
       "      <td>Houston, TX</td>\n",
       "      <td>Legal Services</td>\n",
       "      <td>http://jobview.monster.com/Business-amp-Strate...</td>\n",
       "      <td>NaN</td>\n",
       "      <td>Business/Strategic Management</td>\n",
       "      <td>9331cb7b561348a692f7afc58ac78926</td>\n",
       "      <td>Bachelor's</td>\n",
       "    </tr>\n",
       "  </tbody>\n",
       "</table>\n",
       "</div>"
      ],
      "text/plain": [
       "                    country country_code  date_added has_expired  \\\n",
       "0  United States of America           US         NaN          No   \n",
       "\n",
       "          job_board                                    Job_Description  \\\n",
       "0  jobs.monster.com  Business & Strategy AnalystOne of our top clie...   \n",
       "\n",
       "   Requirement                    Job_Title             Job_Type     Location  \\\n",
       "0          NaN  Business & Strategy Analyst  Full Time, Employee  Houston, TX   \n",
       "\n",
       "     Organization                                           Page_URL Salary  \\\n",
       "0  Legal Services  http://jobview.monster.com/Business-amp-Strate...    NaN   \n",
       "\n",
       "                          Sector                           Uniq_ID  \\\n",
       "0  Business/Strategic Management  9331cb7b561348a692f7afc58ac78926   \n",
       "\n",
       "  Degree Requirement  \n",
       "0         Bachelor's  "
      ]
     },
     "execution_count": 21,
     "metadata": {},
     "output_type": "execute_result"
    }
   ],
   "source": [
    "monsterdf.head(1)\n"
   ]
  },
  {
   "cell_type": "code",
   "execution_count": 40,
   "metadata": {},
   "outputs": [],
   "source": [
    "# generate a count of the number of instances of each degree in each dataset \n",
    "monster_education_value_counts = monsterdf['Degree Requirement'].value_counts()\n",
    "google_A_education_value_counts = googdf_analyst['Degree Requirement'].value_counts()\n",
    "google_NA_education_value_counts = googdf_not_analyst['Degree Requirement'].value_counts()\n",
    "\n",
    "# turn the each series into a DataFrame \n",
    "monster_education_value_counts_df = pd.DataFrame(monster_education_value_counts)\n",
    "google_A_education_value_counts_df = pd.DataFrame(google_A_education_value_counts)\n",
    "google_NA_education_value_counts_df = pd.DataFrame(google_NA_education_value_counts)\n",
    "\n",
    "# reset the index of the DataFrames to include the degree names\n",
    "monster_education_value_counts_df = monster_education_value_counts_df.reset_index()\n",
    "google_A_education_value_counts_df = google_A_education_value_counts_df.reset_index()\n",
    "google_NA_education_value_counts_df = google_NA_education_value_counts_df.reset_index()\n",
    "\n",
    "# Change the data from a strict count to a percentage to make the data more comparable\n",
    "monster_education_value_counts_df['Degree Requirement'] = monster_education_value_counts_df['Degree Requirement'].apply(lambda x: x*100/74)\n",
    "google_A_education_value_counts_df['Degree Requirement'] = google_A_education_value_counts_df['Degree Requirement'].apply(lambda x: x*100/5)\n",
    "google_NA_education_value_counts_df['Degree Requirement'] = google_NA_education_value_counts_df['Degree Requirement'].apply(lambda x: x*100/1230)"
   ]
  },
  {
   "cell_type": "code",
   "execution_count": 41,
   "metadata": {},
   "outputs": [
    {
     "data": {
      "text/html": [
       "<div>\n",
       "<style scoped>\n",
       "    .dataframe tbody tr th:only-of-type {\n",
       "        vertical-align: middle;\n",
       "    }\n",
       "\n",
       "    .dataframe tbody tr th {\n",
       "        vertical-align: top;\n",
       "    }\n",
       "\n",
       "    .dataframe thead th {\n",
       "        text-align: right;\n",
       "    }\n",
       "</style>\n",
       "<table border=\"1\" class=\"dataframe\">\n",
       "  <thead>\n",
       "    <tr style=\"text-align: right;\">\n",
       "      <th></th>\n",
       "      <th>index</th>\n",
       "      <th>Degree Requirement</th>\n",
       "    </tr>\n",
       "  </thead>\n",
       "  <tbody>\n",
       "    <tr>\n",
       "      <th>0</th>\n",
       "      <td>No Mention</td>\n",
       "      <td>44.594595</td>\n",
       "    </tr>\n",
       "    <tr>\n",
       "      <th>1</th>\n",
       "      <td>Bachelor's</td>\n",
       "      <td>24.324324</td>\n",
       "    </tr>\n",
       "    <tr>\n",
       "      <th>2</th>\n",
       "      <td>BA</td>\n",
       "      <td>14.864865</td>\n",
       "    </tr>\n",
       "    <tr>\n",
       "      <th>3</th>\n",
       "      <td>Master's</td>\n",
       "      <td>9.459459</td>\n",
       "    </tr>\n",
       "    <tr>\n",
       "      <th>4</th>\n",
       "      <td>MBA</td>\n",
       "      <td>2.702703</td>\n",
       "    </tr>\n",
       "    <tr>\n",
       "      <th>5</th>\n",
       "      <td>BS</td>\n",
       "      <td>2.702703</td>\n",
       "    </tr>\n",
       "    <tr>\n",
       "      <th>6</th>\n",
       "      <td>PhD</td>\n",
       "      <td>1.351351</td>\n",
       "    </tr>\n",
       "  </tbody>\n",
       "</table>\n",
       "</div>"
      ],
      "text/plain": [
       "        index  Degree Requirement\n",
       "0  No Mention           44.594595\n",
       "1  Bachelor's           24.324324\n",
       "2          BA           14.864865\n",
       "3    Master's            9.459459\n",
       "4         MBA            2.702703\n",
       "5          BS            2.702703\n",
       "6         PhD            1.351351"
      ]
     },
     "execution_count": 41,
     "metadata": {},
     "output_type": "execute_result"
    }
   ],
   "source": [
    "monster_education_value_counts_df"
   ]
  },
  {
   "cell_type": "code",
   "execution_count": 42,
   "metadata": {},
   "outputs": [
    {
     "data": {
      "text/html": [
       "<div>\n",
       "<style scoped>\n",
       "    .dataframe tbody tr th:only-of-type {\n",
       "        vertical-align: middle;\n",
       "    }\n",
       "\n",
       "    .dataframe tbody tr th {\n",
       "        vertical-align: top;\n",
       "    }\n",
       "\n",
       "    .dataframe thead th {\n",
       "        text-align: right;\n",
       "    }\n",
       "</style>\n",
       "<table border=\"1\" class=\"dataframe\">\n",
       "  <thead>\n",
       "    <tr style=\"text-align: right;\">\n",
       "      <th></th>\n",
       "      <th>index</th>\n",
       "      <th>Degree Requirement</th>\n",
       "    </tr>\n",
       "  </thead>\n",
       "  <tbody>\n",
       "    <tr>\n",
       "      <th>0</th>\n",
       "      <td>PhD</td>\n",
       "      <td>60.0</td>\n",
       "    </tr>\n",
       "    <tr>\n",
       "      <th>1</th>\n",
       "      <td>BS</td>\n",
       "      <td>40.0</td>\n",
       "    </tr>\n",
       "  </tbody>\n",
       "</table>\n",
       "</div>"
      ],
      "text/plain": [
       "  index  Degree Requirement\n",
       "0   PhD                60.0\n",
       "1    BS                40.0"
      ]
     },
     "execution_count": 42,
     "metadata": {},
     "output_type": "execute_result"
    }
   ],
   "source": [
    "google_A_education_value_counts_df"
   ]
  },
  {
   "cell_type": "code",
   "execution_count": 43,
   "metadata": {},
   "outputs": [
    {
     "data": {
      "text/html": [
       "<div>\n",
       "<style scoped>\n",
       "    .dataframe tbody tr th:only-of-type {\n",
       "        vertical-align: middle;\n",
       "    }\n",
       "\n",
       "    .dataframe tbody tr th {\n",
       "        vertical-align: top;\n",
       "    }\n",
       "\n",
       "    .dataframe thead th {\n",
       "        text-align: right;\n",
       "    }\n",
       "</style>\n",
       "<table border=\"1\" class=\"dataframe\">\n",
       "  <thead>\n",
       "    <tr style=\"text-align: right;\">\n",
       "      <th></th>\n",
       "      <th>index</th>\n",
       "      <th>Degree Requirement</th>\n",
       "    </tr>\n",
       "  </thead>\n",
       "  <tbody>\n",
       "    <tr>\n",
       "      <th>0</th>\n",
       "      <td>Bachelor's</td>\n",
       "      <td>77.642276</td>\n",
       "    </tr>\n",
       "    <tr>\n",
       "      <th>1</th>\n",
       "      <td>No Mention</td>\n",
       "      <td>8.130081</td>\n",
       "    </tr>\n",
       "    <tr>\n",
       "      <th>2</th>\n",
       "      <td>MBA</td>\n",
       "      <td>5.772358</td>\n",
       "    </tr>\n",
       "    <tr>\n",
       "      <th>3</th>\n",
       "      <td>Master's</td>\n",
       "      <td>4.146341</td>\n",
       "    </tr>\n",
       "    <tr>\n",
       "      <th>4</th>\n",
       "      <td>BS</td>\n",
       "      <td>3.333333</td>\n",
       "    </tr>\n",
       "    <tr>\n",
       "      <th>5</th>\n",
       "      <td>PhD</td>\n",
       "      <td>0.650407</td>\n",
       "    </tr>\n",
       "    <tr>\n",
       "      <th>6</th>\n",
       "      <td>BA</td>\n",
       "      <td>0.325203</td>\n",
       "    </tr>\n",
       "  </tbody>\n",
       "</table>\n",
       "</div>"
      ],
      "text/plain": [
       "        index  Degree Requirement\n",
       "0  Bachelor's           77.642276\n",
       "1  No Mention            8.130081\n",
       "2         MBA            5.772358\n",
       "3    Master's            4.146341\n",
       "4          BS            3.333333\n",
       "5         PhD            0.650407\n",
       "6          BA            0.325203"
      ]
     },
     "execution_count": 43,
     "metadata": {},
     "output_type": "execute_result"
    }
   ],
   "source": [
    "google_NA_education_value_counts_df"
   ]
  },
  {
   "cell_type": "code",
   "execution_count": 25,
   "metadata": {},
   "outputs": [
    {
     "data": {
      "text/plain": [
       "Index(['index', 'Degree Requirement'], dtype='object')"
      ]
     },
     "execution_count": 25,
     "metadata": {},
     "output_type": "execute_result"
    }
   ],
   "source": [
    "monster_education_value_counts_df.columns"
   ]
  },
  {
   "cell_type": "code",
   "execution_count": 55,
   "metadata": {},
   "outputs": [
    {
     "data": {
      "text/plain": [
       "Text(0,0.5,'Percent of Sample Degrees')"
      ]
     },
     "execution_count": 55,
     "metadata": {},
     "output_type": "execute_result"
    },
    {
     "data": {
      "image/png": "[encoded data removed]",
      "text/plain": [
       "<Figure size 720x360 with 1 Axes>"
      ]
     },
     "metadata": {},
     "output_type": "display_data"
    }
   ],
   "source": [
    "# make a bar graph! \n",
    "fig = plt.figure(figsize=[10, 5])\n",
    "plt.bar(x=monster_education_value_counts_df['index'],\n",
    "        height=monster_education_value_counts_df['Degree Requirement'],\n",
    "        color=['b', 'g', 'r', 'c', 'm', 'y', 'k'], \n",
    "        alpha=0.5)\n",
    "plt.title(\"Degrees Required for US Analysts on Monster.com\")\n",
    "plt.ylabel(\"Percent of Sample Degrees\")\n"
   ]
  },
  {
   "cell_type": "code",
   "execution_count": 51,
   "metadata": {},
   "outputs": [
    {
     "data": {
      "text/plain": [
       "Text(0.5,1,'Degrees Required for US Analysts on Monster.com')"
      ]
     },
     "execution_count": 51,
     "metadata": {},
     "output_type": "execute_result"
    },
    {
     "data": {
      "image/png": "[encoded data removed]",
      "text/plain": [
       "<Figure size 720x720 with 1 Axes>"
      ]
     },
     "metadata": {},
     "output_type": "display_data"
    }
   ],
   "source": [
    "# pie(x, explode=None, labels=None, colors=None, \n",
    "fig = plt.figure(figsize=[10, 10])\n",
    "plt.pie(x=monster_education_value_counts_df['Degree Requirement'],\n",
    "        labels=monster_education_value_counts_df['index'],\n",
    "        colors=['b', 'g', 'r', 'c', 'm', 'y', 'k'],\n",
    "        startangle=90)\n",
    "plt.title(\"Degrees Required for US Analysts on Monster.com\")\n"
   ]
  },
  {
   "cell_type": "code",
   "execution_count": 54,
   "metadata": {},
   "outputs": [
    {
     "data": {
      "text/plain": [
       "Text(0,0.5,'Percent of Sample Degrees')"
      ]
     },
     "execution_count": 54,
     "metadata": {},
     "output_type": "execute_result"
    },
    {
     "data": {
      "image/png": "[encoded data removed]",
      "text/plain": [
       "<Figure size 720x360 with 1 Axes>"
      ]
     },
     "metadata": {},
     "output_type": "display_data"
    }
   ],
   "source": [
    "# make a bar graph! \n",
    "fig = plt.figure(figsize=[10, 5])\n",
    "plt.bar(x=google_A_education_value_counts_df['index'],height=google_A_education_value_counts_df['Degree Requirement'],color=['b', 'g', 'r', 'c', 'm', 'y', 'k'], alpha=0.5)\n",
    "plt.title(\"Degrees Required for Analysts at Google\")\n",
    "plt.ylabel(\"Percent of Sample Degrees\")\n"
   ]
  },
  {
   "cell_type": "code",
   "execution_count": 56,
   "metadata": {},
   "outputs": [
    {
     "data": {
      "text/plain": [
       "Text(0.5,1,'Degrees Required for Analysts at Google')"
      ]
     },
     "execution_count": 56,
     "metadata": {},
     "output_type": "execute_result"
    },
    {
     "data": {
      "image/png": "[encoded data removed]",
      "text/plain": [
       "<Figure size 720x720 with 1 Axes>"
      ]
     },
     "metadata": {},
     "output_type": "display_data"
    }
   ],
   "source": [
    "# pie(x, explode=None, labels=None, colors=None, \n",
    "fig = plt.figure(figsize=[10, 10])\n",
    "plt.pie(x=google_A_education_value_counts_df['Degree Requirement'],\n",
    "        labels=google_A_education_value_counts_df['index'],\n",
    "        colors=['b', 'g', 'r', 'c', 'm', 'y', 'k'])\n",
    "plt.title(\"Degrees Required for Analysts at Google\")"
   ]
  },
  {
   "cell_type": "code",
   "execution_count": 37,
   "metadata": {
    "scrolled": true
   },
   "outputs": [
    {
     "data": {
      "text/plain": [
       "Text(0,0.5,'Percent of Sample Degrees')"
      ]
     },
     "execution_count": 37,
     "metadata": {},
     "output_type": "execute_result"
    },
    {
     "data": {
      "image/png": "[encoded data removed]",
      "text/plain": [
       "<Figure size 432x288 with 1 Axes>"
      ]
     },
     "metadata": {},
     "output_type": "display_data"
    }
   ],
   "source": [
    "# make a bar graph! \n",
    "plt.bar(x=google_NA_education_value_counts_df['index'],height=google_NA_education_value_counts_df['Degree Requirement'], color=['b', 'g', 'r', 'c', 'm', 'y', 'k'], alpha=0.5)\n",
    "plt.title(\"Degrees Required for NON-Analysts at Google\")\n",
    "plt.ylabel(\"Percent of Sample Degrees\")"
   ]
  },
  {
   "cell_type": "code",
   "execution_count": 38,
   "metadata": {},
   "outputs": [
    {
     "data": {
      "text/plain": [
       "Text(0.5,1,'Degrees Required for NON-Analysts at Google')"
      ]
     },
     "execution_count": 38,
     "metadata": {},
     "output_type": "execute_result"
    },
    {
     "data": {
      "image/png": "[encoded data removed]",
      "text/plain": [
       "<Figure size 432x288 with 1 Axes>"
      ]
     },
     "metadata": {},
     "output_type": "display_data"
    }
   ],
   "source": [
    "plt.pie(x=google_NA_education_value_counts_df['Degree Requirement'],\n",
    "        labels=google_NA_education_value_counts_df['index'],\n",
    "        colors=['b', 'g', 'r', 'c', 'm', 'y', 'k'])\n",
    "plt.title(\"Degrees Required for NON-Analysts at Google\")"
   ]
  },
  {
   "cell_type": "code",
   "execution_count": null,
   "metadata": {},
   "outputs": [],
   "source": []
  },
  {
   "cell_type": "code",
   "execution_count": null,
   "metadata": {},
   "outputs": [],
   "source": []
  },
  {
   "cell_type": "code",
   "execution_count": null,
   "metadata": {},
   "outputs": [],
   "source": [
    "tripsthing = [3,0,0,0,0,2,0]\n",
    "plt.pie(x='Degree Requirement')"
   ]
  },
  {
   "cell_type": "code",
   "execution_count": null,
   "metadata": {},
   "outputs": [],
   "source": []
  },
  {
   "cell_type": "code",
   "execution_count": null,
   "metadata": {},
   "outputs": [],
   "source": []
  },
  {
   "cell_type": "code",
   "execution_count": null,
   "metadata": {},
   "outputs": [],
   "source": []
  },
  {
   "cell_type": "code",
   "execution_count": null,
   "metadata": {},
   "outputs": [],
   "source": [
    "monster_analyst = monsterdf[monsterdf['Organization'] == 'Computer/IT Services'] \n",
    "monster_analyst.head(2)\n",
    "                    \n",
    "# monsterdf['Organization'] == 'Computer/IT Services']"
   ]
  },
  {
   "cell_type": "code",
   "execution_count": null,
   "metadata": {},
   "outputs": [],
   "source": [
    "monsterdf['Organization'][0]"
   ]
  },
  {
   "cell_type": "code",
   "execution_count": null,
   "metadata": {},
   "outputs": [],
   "source": [
    "monsterdf['Degree Required'] = DegreeColumn2\n",
    "print(degrees)\n",
    "\n",
    "monster_results = pd.DataFrame(monsterdf['Degree Required'].value_counts())\n",
    "monster_results = monster_results.reset_index()\n",
    "print(type(monster_results))\n",
    "monster_results['Degree Required'] = list(monster_results['Degree Required'])\n",
    "monster_results['index'] = list(monster_results['index'])\n",
    "print(type(monster_results['Degree Required']))\n",
    "print(type(monster_results['index']))\n",
    "print(type(monsterdf['Job_Description']))\n",
    "monster_results"
   ]
  },
  {
   "cell_type": "code",
   "execution_count": null,
   "metadata": {},
   "outputs": [],
   "source": [
    "ed_mon_chart_lab = ['GED', '', '', '', '', '']\n",
    "ed_mon_chart_count = [33,18,11,7,2,2,1]\n",
    "plt.bar(x=ed_mon_chart_lab,height=ed_mon_chart_count)\n",
    "plt.title(\"Degrees Required for Computer/IT Services on Monster.com\")"
   ]
  },
  {
   "cell_type": "code",
   "execution_count": null,
   "metadata": {},
   "outputs": [],
   "source": [
    "list(cool['Degree Required']))\n",
    "\n",
    "# plt.pie(list(cool['Degree Required']), list(cool['index']), startangle=int(90), autopct='%.1f%%')\n",
    "# plt.title('Chart of Education Level')\n",
    "# plt.show()"
   ]
  },
  {
   "cell_type": "code",
   "execution_count": null,
   "metadata": {},
   "outputs": [],
   "source": [
    "googdf_bachelors = googdf[googdf['Degree Reqirement'] == \"Bachelor's\"]\n",
    "googdf_masters = googdf[googdf['Degree Reqirement'] == \"Master's\"]\n",
    "googdf_mba = googdf[googdf['Degree Reqirement'] == 'MBA']\n",
    "googdf_phd = googdf[googdf['Degree Reqirement'] == \"PhD\"]\n",
    "googdf_ba = googdf[googdf['Degree Reqirement'] == \"BA\"]\n",
    "googdf_bs = googdf[googdf['Degree Reqirement'] == \"BS\"]\n",
    "googdf_ged = googdf[googdf['Degree Reqirement'] == \"GED\"]\n",
    "\n",
    "print(googdf_bachelors.count())\n",
    "print(googdf_masters.count())\n",
    "print(googdf_phd.count())\n",
    "print(googdf_ba.count())\n",
    "print(googdf_bs.count())\n",
    "print(googdf_ged.count())\n"
   ]
  },
  {
   "cell_type": "code",
   "execution_count": null,
   "metadata": {},
   "outputs": [],
   "source": [
    "phd_percent = []\n",
    "mba_percent = []\n",
    "masters_percent = []\n",
    "bachelors_percent = []\n",
    "ba_percent = []\n",
    "bs_percent = []"
   ]
  },
  {
   "cell_type": "code",
   "execution_count": null,
   "metadata": {},
   "outputs": [],
   "source": []
  },
  {
   "cell_type": "code",
   "execution_count": null,
   "metadata": {},
   "outputs": [],
   "source": []
  },
  {
   "cell_type": "code",
   "execution_count": null,
   "metadata": {},
   "outputs": [],
   "source": []
  },
  {
   "cell_type": "code",
   "execution_count": null,
   "metadata": {},
   "outputs": [],
   "source": [
    "# This is the end of the good code, proceed at your own risk!\n",
    "# \n",
    "# The NEXT MISSION: \n",
    "# apply this to the programming langauges\n",
    "from List_of_Programming_Languages import LoPL"
   ]
  },
  {
   "cell_type": "code",
   "execution_count": null,
   "metadata": {},
   "outputs": [],
   "source": [
    "for row in range(len(googdf['Minimum Qualifications'])):    "
   ]
  },
  {
   "cell_type": "code",
   "execution_count": null,
   "metadata": {},
   "outputs": [],
   "source": []
  },
  {
   "cell_type": "code",
   "execution_count": null,
   "metadata": {},
   "outputs": [],
   "source": []
  },
  {
   "cell_type": "code",
   "execution_count": null,
   "metadata": {},
   "outputs": [],
   "source": []
  },
  {
   "cell_type": "code",
   "execution_count": null,
   "metadata": {},
   "outputs": [],
   "source": [
    "sample_cell_1 = 'There is a word in this sentence the balh, jsergh, lkdf, lken & ketrhj& ths.'\n",
    "sample_cell_2 = 'Here is the second sentence.'\n",
    "print(sample_cell_1)\n",
    "print(sample_cell_2)\n"
   ]
  },
  {
   "cell_type": "code",
   "execution_count": null,
   "metadata": {},
   "outputs": [],
   "source": [
    "sample_cell_list_of_words_1 = sample_cell_1.split()\n",
    "sample_cell_list_of_words_2 = sample_cell_2.split()\n",
    "print (sample_cell_list_of_words_1)\n",
    "print (sample_cell_list_of_words_2)"
   ]
  },
  {
   "cell_type": "code",
   "execution_count": null,
   "metadata": {},
   "outputs": [],
   "source": [
    "master_list_of_skills = []\n",
    "# here you'll usethis:\n",
    "# for row in range(len(<df_name>['<column_name>'])):\n",
    "#     master_list_of_skills.append(<df_name>['<column_name>'][row])"
   ]
  },
  {
   "cell_type": "code",
   "execution_count": null,
   "metadata": {},
   "outputs": [],
   "source": []
  },
  {
   "cell_type": "code",
   "execution_count": null,
   "metadata": {},
   "outputs": [],
   "source": []
  },
  {
   "cell_type": "code",
   "execution_count": null,
   "metadata": {},
   "outputs": [],
   "source": [
    "Degree_Requirements = []\n",
    "for row in range(len(df['Minimum Qualifications'])):\n",
    "    if any(word in df['Minimum Qualifications'][row] for word in PhD_list):\n",
    "        Degree_Requirements.append('PhD')          \n",
    "    elif any(word in sentence for word in MBA_list):\n",
    "        Degree_Requirements.append('MBA') \n",
    "    elif any(word in sentence for word in Master_list):\n",
    "        Degree_Requirements.append(\"Master's\")\n",
    "    elif any(word in sentence for word in Bachelor_list):\n",
    "        Degree_Requirements.append(\"Bachelor's\")\n",
    "    elif any(word in sentence for word in BA_list):\n",
    "        Degree_Requirements.append(\"BA\")          \n",
    "    elif any(word in sentence for word in BS_list):\n",
    "        Degree_Requirements.append(\"BS\")\n",
    "    else:\n",
    "        Degree_Requirements.append(\"GED\")\n",
    "              \n",
    "print(Degree_Requirements[0:20])"
   ]
  },
  {
   "cell_type": "code",
   "execution_count": null,
   "metadata": {},
   "outputs": [],
   "source": []
  },
  {
   "cell_type": "code",
   "execution_count": null,
   "metadata": {},
   "outputs": [],
   "source": [
    "# re.sub(\"[^\\d]\",\"\",\"asdf(650)ljhaflkhj1234657--aks\")\n",
    "re.search(\"j(oin)? (.*)$\", \"join ,\")[2]\n",
    "\n",
    "this\n",
    "that\n",
    "wooooo\n",
    "this,that,wooooooo"
   ]
  },
  {
   "cell_type": "code",
   "execution_count": null,
   "metadata": {},
   "outputs": [],
   "source": []
  },
  {
   "cell_type": "code",
   "execution_count": null,
   "metadata": {},
   "outputs": [],
   "source": [
    "\n"
   ]
  },
  {
   "cell_type": "code",
   "execution_count": null,
   "metadata": {},
   "outputs": [],
   "source": [
    "re.findall(\"q\", \"hello, world\")"
   ]
  },
  {
   "cell_type": "code",
   "execution_count": null,
   "metadata": {},
   "outputs": [],
   "source": [
    "if word in df['Minimum Qualifications'][1] == 'phd':\n",
    "    print (word)\n",
    "else:\n",
    "    print ('no word')"
   ]
  },
  {
   "cell_type": "code",
   "execution_count": null,
   "metadata": {},
   "outputs": [],
   "source": [
    "for word in PhD_list:\n",
    "    print(word)"
   ]
  },
  {
   "cell_type": "code",
   "execution_count": null,
   "metadata": {},
   "outputs": [],
   "source": []
  },
  {
   "cell_type": "code",
   "execution_count": null,
   "metadata": {},
   "outputs": [],
   "source": []
  },
  {
   "cell_type": "code",
   "execution_count": null,
   "metadata": {},
   "outputs": [],
   "source": [
    "num_rows = 0\n",
    "row_nums = []\n",
    "for row in df[\"Company\"]:\n",
    "    row_nums.append(num_rows)\n",
    "    num_rows +=1\n",
    "row_nums[0:20]"
   ]
  },
  {
   "cell_type": "code",
   "execution_count": null,
   "metadata": {},
   "outputs": [],
   "source": [
    "BIG_WORD_LIST = []\n",
    "row=0\n",
    "while row < 20:\n",
    "    for row in df['Responsibilities']:\n",
    "        BIG_WORD_LIST.append(df.iloc[int(row_nums[row]),4])\n",
    "        BIG_WORD_LIST.append(df.iloc[row,5])\n",
    "        BIG_WORD_LIST.append(df.iloc[row,6])\n",
    "\n",
    "\n",
    "len(BIG_WORD_LIST)"
   ]
  },
  {
   "cell_type": "code",
   "execution_count": null,
   "metadata": {},
   "outputs": [],
   "source": [
    "print(df.columns)\n",
    "df['Category'].value_counts()"
   ]
  },
  {
   "cell_type": "code",
   "execution_count": null,
   "metadata": {},
   "outputs": [],
   "source": [
    "Programming_Languages = ['Python', 'Java ','C#', 'PHP', 'Javascript', 'Ruby', 'Perl', 'SQL','Go ']\n",
    "\n",
    "Languages = dict((x,0) for x in Programming_Languages)\n",
    "for i in Languages:\n",
    "    x = df['Minimum Qualifications'].str.contains(i).sum()\n",
    "    if i in Languages:\n",
    "        Languages[i] = x\n",
    "        \n",
    "print(Languages)"
   ]
  },
  {
   "cell_type": "code",
   "execution_count": null,
   "metadata": {},
   "outputs": [],
   "source": [
    "type(Languages)\n",
    "# PL_DF = pd.DataFrame.from_dict(Languages)\n",
    "# PL_DF.head()"
   ]
  },
  {
   "cell_type": "code",
   "execution_count": null,
   "metadata": {},
   "outputs": [],
   "source": [
    "Degree = ['BA','BS','Bachelor','MBA','Master','PhD']\n",
    "\n",
    "Degrees = dict((x,0) for x in Degree)\n",
    "for i in Degree:\n",
    "    x = df['Minimum Qualifications'].str.contains(i).sum()\n",
    "    if i in Degrees:\n",
    "        Degrees[i] = x\n",
    "        \n",
    "print(Degrees)"
   ]
  },
  {
   "cell_type": "code",
   "execution_count": null,
   "metadata": {},
   "outputs": [],
   "source": []
  },
  {
   "cell_type": "code",
   "execution_count": null,
   "metadata": {},
   "outputs": [],
   "source": [
    "degree_requirement = sorted(Degrees.items(), key=lambda x: x[1], reverse=True)\n",
    "degree = pd.DataFrame(degree_requirement,columns=['Degree','Count'])\n",
    "degree['Count'] = degree.Count.astype('float')\n",
    "degree"
   ]
  },
  {
   "cell_type": "code",
   "execution_count": null,
   "metadata": {},
   "outputs": [],
   "source": [
    "len(df['Minimum Qualifications'])"
   ]
  },
  {
   "cell_type": "code",
   "execution_count": null,
   "metadata": {},
   "outputs": [],
   "source": [
    "for x in range(2):\n",
    "    print(df['Minimum Qualifications'][x])\n",
    "type(x)"
   ]
  },
  {
   "cell_type": "code",
   "execution_count": null,
   "metadata": {},
   "outputs": [],
   "source": []
  },
  {
   "cell_type": "code",
   "execution_count": null,
   "metadata": {},
   "outputs": [],
   "source": [
    "type(test)"
   ]
  },
  {
   "cell_type": "code",
   "execution_count": null,
   "metadata": {},
   "outputs": [],
   "source": [
    "Degree_Requirements = []\n",
    "for row in range(len(df['Minimum Qualifications'])):\n",
    "    if any(word in df['Minimum Qualifications'][row] for word in PhD_list):\n",
    "        Degree_Requirements.append('PhD')          \n",
    "    elif any(word in sentence for word in MBA_list):\n",
    "        Degree_Requirements.append('MBA') \n",
    "    elif any(word in sentence for word in Master_list):\n",
    "        Degree_Requirements.append(\"Master's\")\n",
    "    elif any(word in sentence for word in Bachelor_list):\n",
    "        Degree_Requirements.append(\"Bachelor's\")\n",
    "    elif any(word in sentence for word in BA_list):\n",
    "        Degree_Requirements.append(\"BA\")          \n",
    "    elif any(word in sentence for word in BS_list):\n",
    "        Degree_Requirements.append(\"BS\")\n",
    "    else:\n",
    "        Degree_Requirements.append(\"GED\")\n",
    "              \n",
    "print(Degree_Requirements[0:20])"
   ]
  },
  {
   "cell_type": "code",
   "execution_count": null,
   "metadata": {},
   "outputs": [],
   "source": [
    "df['Category'].unique()"
   ]
  },
  {
   "cell_type": "code",
   "execution_count": null,
   "metadata": {},
   "outputs": [],
   "source": [
    "df_by_category = pd.DataFrame()"
   ]
  },
  {
   "cell_type": "code",
   "execution_count": null,
   "metadata": {},
   "outputs": [],
   "source": [
    "BIG_WORD_LIST[0].replace('\\n',' ')"
   ]
  },
  {
   "cell_type": "code",
   "execution_count": null,
   "metadata": {},
   "outputs": [],
   "source": [
    "# find out which language occurs in most in minimum Qualifications string\n",
    "from List_of_Programming_Languages.py import LoPL\n",
    "wordcount = dict((x,0) for x in LoPL)\n",
    "for w in re.findall(r\"[\\w'+#-]+|[.!?;’]\", miniumum_qualifications_string):\n",
    "    if w in wordcount:\n",
    "        wordcount[w] += 1\n",
    "# print\n",
    "print(wordcount)"
   ]
  },
  {
   "cell_type": "code",
   "execution_count": null,
   "metadata": {},
   "outputs": [],
   "source": [
    "4th Dimension/4D\n",
    "ABAP\n",
    "ABC\n",
    "ActionScript\n",
    "Ada\n",
    "Agilent VEE\n",
    "Algol\n",
    "Alice\n",
    "Angelscript\n",
    "Apex\n",
    "APL\n",
    "AppleScript\n",
    "Arc"
   ]
  },
  {
   "cell_type": "code",
   "execution_count": null,
   "metadata": {},
   "outputs": [],
   "source": []
  },
  {
   "cell_type": "code",
   "execution_count": null,
   "metadata": {},
   "outputs": [],
   "source": [
    "results = []\n",
    "for row in list(df['Minimum Qualifications']):\n",
    "    found = re.findall(PhD_re, row)\n",
    "    results.append(len(found) > 0)\n",
    "print(results[0:20])\n"
   ]
  },
  {
   "cell_type": "code",
   "execution_count": null,
   "metadata": {},
   "outputs": [],
   "source": []
  },
  {
   "cell_type": "code",
   "execution_count": null,
   "metadata": {},
   "outputs": [],
   "source": []
  },
  {
   "cell_type": "code",
   "execution_count": null,
   "metadata": {},
   "outputs": [],
   "source": []
  },
  {
   "cell_type": "code",
   "execution_count": null,
   "metadata": {},
   "outputs": [],
   "source": []
  },
  {
   "cell_type": "code",
   "execution_count": null,
   "metadata": {},
   "outputs": [],
   "source": [
    "# Rename the columns to make them easier to code \n",
    "df = df.rename(columns={\n",
    "    'Minimum Qualifications': 'Minimum_Qualifications', \n",
    "    'Preferred Qualifications': 'Preferred_Qualifications'})"
   ]
  },
  {
   "cell_type": "code",
   "execution_count": null,
   "metadata": {},
   "outputs": [],
   "source": [
    "# are there any NaN values in the DF?\n",
    "pd.isnull(df).sum()"
   ]
  },
  {
   "cell_type": "code",
   "execution_count": null,
   "metadata": {},
   "outputs": [],
   "source": [
    "# Drop all those null rows\n",
    "df = df.dropna(how='any',axis='rows')"
   ]
  },
  {
   "cell_type": "code",
   "execution_count": null,
   "metadata": {},
   "outputs": [],
   "source": [
    "# check to see if there are any other company names \n",
    "df.Company.value_counts()"
   ]
  },
  {
   "cell_type": "code",
   "execution_count": null,
   "metadata": {},
   "outputs": [],
   "source": [
    "# So I drop Youtube\n",
    "# df = df[df.Company != 'YouTube']"
   ]
  },
  {
   "cell_type": "code",
   "execution_count": null,
   "metadata": {},
   "outputs": [],
   "source": [
    "df.Location.value_counts()[:15]"
   ]
  },
  {
   "cell_type": "code",
   "execution_count": null,
   "metadata": {},
   "outputs": [],
   "source": [
    "df['Country'] = df['Location'].apply(lambda x : x.split(',')[-1])"
   ]
  },
  {
   "cell_type": "code",
   "execution_count": null,
   "metadata": {},
   "outputs": [],
   "source": [
    "df.head(2)"
   ]
  },
  {
   "cell_type": "code",
   "execution_count": null,
   "metadata": {},
   "outputs": [],
   "source": [
    "df.Country.value_counts()[:15]"
   ]
  },
  {
   "cell_type": "code",
   "execution_count": null,
   "metadata": {},
   "outputs": [],
   "source": [
    "# The way to extract year refer to https://www.kaggle.com/niyamatalmass/what-you-need-to-get-a-job-at-google.\n",
    "# Thanks Niyamat Ullah for such brilliant way. Go check his kernel. It's great!\n",
    "import re\n",
    "df['Minimum_years_experience'] = df['Minimum_Qualifications'].apply(lambda x : re.findall(r'([0-9]+) year',x))\n",
    "# Fill empty list with [0]\n",
    "df['Minimum_years_experience'] = df['Minimum_years_experience'].apply(lambda y : [0] if len(y)==0 else y)\n",
    "# Then extract maximum in the list to have the work experience requirement\n",
    "df['Minimum_years_experience'] = df['Minimum_years_experience'].apply(lambda z : max(z))\n",
    "df['Minimum_years_experience'] = df.Minimum_years_experience.astype(int)"
   ]
  },
  {
   "cell_type": "code",
   "execution_count": null,
   "metadata": {},
   "outputs": [],
   "source": []
  },
  {
   "cell_type": "code",
   "execution_count": null,
   "metadata": {},
   "outputs": [],
   "source": []
  },
  {
   "cell_type": "code",
   "execution_count": null,
   "metadata": {},
   "outputs": [],
   "source": []
  }
 ],
 "metadata": {
  "kernelspec": {
   "display_name": "Python 3",
   "language": "python",
   "name": "python3"
  },
  "language_info": {
   "codemirror_mode": {
    "name": "ipython",
    "version": 3
   },
   "file_extension": ".py",
   "mimetype": "text/x-python",
   "name": "python",
   "nbconvert_exporter": "python",
   "pygments_lexer": "ipython3",
   "version": "3.6.5"
  }
 },
 "nbformat": 4,
 "nbformat_minor": 2
}
