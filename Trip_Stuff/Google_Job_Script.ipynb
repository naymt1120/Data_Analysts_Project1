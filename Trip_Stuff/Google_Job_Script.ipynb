{
 "cells": [
  {
   "cell_type": "code",
   "execution_count": 1,
   "metadata": {},
   "outputs": [],
   "source": [
    "# Welcome to the script!"
   ]
  },
  {
   "cell_type": "code",
   "execution_count": null,
   "metadata": {},
   "outputs": [],
   "source": []
  },
  {
   "cell_type": "code",
   "execution_count": 29,
   "metadata": {},
   "outputs": [],
   "source": [
    "#import Dependencies\n",
    "import numpy as np\n",
    "import pandas as pd\n",
    "import matplotlib.pyplot as plt\n",
    "%matplotlib inline\n",
    "import seaborn as sns\n",
    "import re"
   ]
  },
  {
   "cell_type": "code",
   "execution_count": 30,
   "metadata": {},
   "outputs": [],
   "source": [
    "# set filepath and establish DataFrame\n",
    "googdf = pd.read_csv('../CSV_Folder/job_skills.csv')"
   ]
  },
  {
   "cell_type": "code",
   "execution_count": 31,
   "metadata": {
    "scrolled": true
   },
   "outputs": [
    {
     "name": "stdout",
     "output_type": "stream",
     "text": [
      "Index(['Company', 'Title', 'Category', 'Location', 'Responsibilities',\n",
      "       'Minimum Qualifications', 'Preferred Qualifications'],\n",
      "      dtype='object')\n"
     ]
    }
   ],
   "source": [
    "# Is it working?\n",
    "print(googdf.columns)"
   ]
  },
  {
   "cell_type": "code",
   "execution_count": 32,
   "metadata": {},
   "outputs": [
    {
     "data": {
      "text/plain": [
       "pandas.core.frame.DataFrame"
      ]
     },
     "execution_count": 32,
     "metadata": {},
     "output_type": "execute_result"
    }
   ],
   "source": [
    "# Drop the incomplete rows and reset the index.\n",
    "googdf = googdf.dropna(how='any',axis='rows')\n",
    "googdf = googdf.reset_index(drop=True)\n",
    "type(googdf)"
   ]
  },
  {
   "cell_type": "code",
   "execution_count": 33,
   "metadata": {},
   "outputs": [
    {
     "data": {
      "text/html": [
       "<div>\n",
       "<style scoped>\n",
       "    .dataframe tbody tr th:only-of-type {\n",
       "        vertical-align: middle;\n",
       "    }\n",
       "\n",
       "    .dataframe tbody tr th {\n",
       "        vertical-align: top;\n",
       "    }\n",
       "\n",
       "    .dataframe thead th {\n",
       "        text-align: right;\n",
       "    }\n",
       "</style>\n",
       "<table border=\"1\" class=\"dataframe\">\n",
       "  <thead>\n",
       "    <tr style=\"text-align: right;\">\n",
       "      <th></th>\n",
       "      <th>Company</th>\n",
       "      <th>Title</th>\n",
       "      <th>Category</th>\n",
       "      <th>Location</th>\n",
       "      <th>Responsibilities</th>\n",
       "      <th>Minimum Qualifications</th>\n",
       "      <th>Preferred Qualifications</th>\n",
       "    </tr>\n",
       "  </thead>\n",
       "  <tbody>\n",
       "    <tr>\n",
       "      <th>0</th>\n",
       "      <td>Google</td>\n",
       "      <td>Google Cloud Program Manager</td>\n",
       "      <td>Program Management</td>\n",
       "      <td>Singapore</td>\n",
       "      <td>Shape, shepherd, ship, and show technical prog...</td>\n",
       "      <td>BA/BS degree or equivalent practical experienc...</td>\n",
       "      <td>Experience in the business technology market a...</td>\n",
       "    </tr>\n",
       "    <tr>\n",
       "      <th>1</th>\n",
       "      <td>Google</td>\n",
       "      <td>Supplier Development Engineer (SDE), Cable/Con...</td>\n",
       "      <td>Manufacturing &amp; Supply Chain</td>\n",
       "      <td>Shanghai, China</td>\n",
       "      <td>Drive cross-functional activities in the suppl...</td>\n",
       "      <td>BS degree in an Engineering discipline or equi...</td>\n",
       "      <td>BSEE, BSME or BSIE degree.\\nExperience of usin...</td>\n",
       "    </tr>\n",
       "    <tr>\n",
       "      <th>2</th>\n",
       "      <td>Google</td>\n",
       "      <td>Data Analyst, Product and Tools Operations, Go...</td>\n",
       "      <td>Technical Solutions</td>\n",
       "      <td>New York, NY, United States</td>\n",
       "      <td>Collect and analyze data to draw insight and i...</td>\n",
       "      <td>Bachelor’s degree in Business, Economics, Stat...</td>\n",
       "      <td>Experience partnering or consulting cross-func...</td>\n",
       "    </tr>\n",
       "    <tr>\n",
       "      <th>3</th>\n",
       "      <td>Google</td>\n",
       "      <td>Developer Advocate, Partner Engineering</td>\n",
       "      <td>Developer Relations</td>\n",
       "      <td>Mountain View, CA, United States</td>\n",
       "      <td>Work one-on-one with the top Android, iOS, and...</td>\n",
       "      <td>BA/BS degree in Computer Science or equivalent...</td>\n",
       "      <td>Experience as a software developer, architect,...</td>\n",
       "    </tr>\n",
       "    <tr>\n",
       "      <th>4</th>\n",
       "      <td>Google</td>\n",
       "      <td>Program Manager, Audio Visual (AV) Deployments</td>\n",
       "      <td>Program Management</td>\n",
       "      <td>Sunnyvale, CA, United States</td>\n",
       "      <td>Plan requirements with internal customers.\\nPr...</td>\n",
       "      <td>BA/BS degree or equivalent practical experienc...</td>\n",
       "      <td>CTS Certification.\\nExperience in the construc...</td>\n",
       "    </tr>\n",
       "  </tbody>\n",
       "</table>\n",
       "</div>"
      ],
      "text/plain": [
       "  Company                                              Title  \\\n",
       "0  Google                       Google Cloud Program Manager   \n",
       "1  Google  Supplier Development Engineer (SDE), Cable/Con...   \n",
       "2  Google  Data Analyst, Product and Tools Operations, Go...   \n",
       "3  Google            Developer Advocate, Partner Engineering   \n",
       "4  Google     Program Manager, Audio Visual (AV) Deployments   \n",
       "\n",
       "                       Category                          Location  \\\n",
       "0            Program Management                         Singapore   \n",
       "1  Manufacturing & Supply Chain                   Shanghai, China   \n",
       "2           Technical Solutions       New York, NY, United States   \n",
       "3           Developer Relations  Mountain View, CA, United States   \n",
       "4            Program Management      Sunnyvale, CA, United States   \n",
       "\n",
       "                                    Responsibilities  \\\n",
       "0  Shape, shepherd, ship, and show technical prog...   \n",
       "1  Drive cross-functional activities in the suppl...   \n",
       "2  Collect and analyze data to draw insight and i...   \n",
       "3  Work one-on-one with the top Android, iOS, and...   \n",
       "4  Plan requirements with internal customers.\\nPr...   \n",
       "\n",
       "                              Minimum Qualifications  \\\n",
       "0  BA/BS degree or equivalent practical experienc...   \n",
       "1  BS degree in an Engineering discipline or equi...   \n",
       "2  Bachelor’s degree in Business, Economics, Stat...   \n",
       "3  BA/BS degree in Computer Science or equivalent...   \n",
       "4  BA/BS degree or equivalent practical experienc...   \n",
       "\n",
       "                            Preferred Qualifications  \n",
       "0  Experience in the business technology market a...  \n",
       "1  BSEE, BSME or BSIE degree.\\nExperience of usin...  \n",
       "2  Experience partnering or consulting cross-func...  \n",
       "3  Experience as a software developer, architect,...  \n",
       "4  CTS Certification.\\nExperience in the construc...  "
      ]
     },
     "execution_count": 33,
     "metadata": {},
     "output_type": "execute_result"
    }
   ],
   "source": [
    "googdf.head()"
   ]
  },
  {
   "cell_type": "code",
   "execution_count": 43,
   "metadata": {},
   "outputs": [],
   "source": [
    "BA_list = ['BA']\n",
    "BS_list = ['BS']\n",
    "Bachelor_list = ['BA/BS', 'BS/BA', 'bs/ba', 'Ba/Bs', 'ba/bs','Bachelor', 'bachelor']\n",
    "Master_list = ['Master', 'master']\n",
    "MBA_list = ['MBA', 'Mba', 'mba']\n",
    "PhD_list = ['PHD', 'PhD', 'phD', 'phd', 'Phd', 'Ph.D']\n",
    "PhD_re = \"[pP][hH][dD]\"\n",
    "degree_list = [PhD_list, MBA_list, Master_list, Bachelor_list, BS_list, BA_list]\n",
    "degrees = [\"PhD\", \"MBA\", \"Master's\", \"Bachelor's\", \"BA\", \"BS\", \"GED\"]"
   ]
  },
  {
   "cell_type": "code",
   "execution_count": 44,
   "metadata": {},
   "outputs": [],
   "source": [
    "# make an array that will hold the degree requirements\n",
    "DegreeColumn = []\n",
    "\n",
    "for row in range(len(googdf['Minimum Qualifications'])):    \n",
    "    go=True\n",
    "    if go==True:\n",
    "        for word_phd in PhD_list:\n",
    "            if word_phd in googdf['Minimum Qualifications'][row]:\n",
    "                DegreeColumn.append(\"PhD\")\n",
    "                go=False\n",
    "                break\n",
    "    if go==True:\n",
    "        for word_mba in MBA_list:\n",
    "            if word_mba in googdf['Minimum Qualifications'][row]:\n",
    "                DegreeColumn.append(\"MBA\")\n",
    "                go=False\n",
    "                break\n",
    "\n",
    "    if go==True:\n",
    "        for word_master in Master_list:\n",
    "            if word_master in googdf['Minimum Qualifications'][row]:\n",
    "                DegreeColumn.append(\"Master's\")\n",
    "                go=False\n",
    "                break\n",
    "    if go==True:\n",
    "        for word_bachelor in Bachelor_list:\n",
    "            if word_bachelor in googdf['Minimum Qualifications'][row]:\n",
    "                DegreeColumn.append(\"Bachelor's\")\n",
    "                go=False\n",
    "                break\n",
    "    if go==True:\n",
    "        for word_ba in BA_list:\n",
    "            if word_ba in googdf['Minimum Qualifications'][row]:\n",
    "                DegreeColumn.append(\"BA\")\n",
    "                go=False\n",
    "                break\n",
    "    if go==True:\n",
    "\n",
    "        for word_bs in BS_list:\n",
    "            if word_bs in googdf['Minimum Qualifications'][row]:\n",
    "                DegreeColumn.append(\"BS\")\n",
    "                go=False\n",
    "                break\n",
    "    if go==True:\n",
    "        DegreeColumn.append('GED')            "
   ]
  },
  {
   "cell_type": "code",
   "execution_count": 45,
   "metadata": {},
   "outputs": [
    {
     "name": "stdout",
     "output_type": "stream",
     "text": [
      "1235\n",
      "1235\n"
     ]
    },
    {
     "data": {
      "text/plain": [
       "[\"Bachelor's\",\n",
       " 'BS',\n",
       " \"Bachelor's\",\n",
       " \"Bachelor's\",\n",
       " \"Bachelor's\",\n",
       " \"Bachelor's\",\n",
       " 'BS',\n",
       " \"Bachelor's\",\n",
       " \"Bachelor's\",\n",
       " \"Bachelor's\",\n",
       " \"Bachelor's\",\n",
       " \"Bachelor's\",\n",
       " \"Bachelor's\",\n",
       " \"Bachelor's\",\n",
       " \"Bachelor's\",\n",
       " \"Bachelor's\",\n",
       " \"Bachelor's\",\n",
       " \"Bachelor's\",\n",
       " 'BS',\n",
       " 'PhD']"
      ]
     },
     "execution_count": 45,
     "metadata": {},
     "output_type": "execute_result"
    }
   ],
   "source": [
    "# test the length of the array to see if it is the same length of the DataFrame.\n",
    "# if it is the same length, then it is probably safe to make a new column.\n",
    "print(len(DegreeColumn))\n",
    "print(len(googdf['Minimum Qualifications']))\n",
    "# test to make sure the array looks good\n",
    "DegreeColumn[0:20]            "
   ]
  },
  {
   "cell_type": "code",
   "execution_count": 46,
   "metadata": {},
   "outputs": [
    {
     "data": {
      "text/html": [
       "<div>\n",
       "<style scoped>\n",
       "    .dataframe tbody tr th:only-of-type {\n",
       "        vertical-align: middle;\n",
       "    }\n",
       "\n",
       "    .dataframe tbody tr th {\n",
       "        vertical-align: top;\n",
       "    }\n",
       "\n",
       "    .dataframe thead th {\n",
       "        text-align: right;\n",
       "    }\n",
       "</style>\n",
       "<table border=\"1\" class=\"dataframe\">\n",
       "  <thead>\n",
       "    <tr style=\"text-align: right;\">\n",
       "      <th></th>\n",
       "      <th>Company</th>\n",
       "      <th>Title</th>\n",
       "      <th>Category</th>\n",
       "      <th>Location</th>\n",
       "      <th>Responsibilities</th>\n",
       "      <th>Minimum Qualifications</th>\n",
       "      <th>Preferred Qualifications</th>\n",
       "      <th>Degree Reqirement</th>\n",
       "    </tr>\n",
       "  </thead>\n",
       "  <tbody>\n",
       "    <tr>\n",
       "      <th>0</th>\n",
       "      <td>Google</td>\n",
       "      <td>Google Cloud Program Manager</td>\n",
       "      <td>Program Management</td>\n",
       "      <td>Singapore</td>\n",
       "      <td>Shape, shepherd, ship, and show technical prog...</td>\n",
       "      <td>BA/BS degree or equivalent practical experienc...</td>\n",
       "      <td>Experience in the business technology market a...</td>\n",
       "      <td>Bachelor's</td>\n",
       "    </tr>\n",
       "    <tr>\n",
       "      <th>1</th>\n",
       "      <td>Google</td>\n",
       "      <td>Supplier Development Engineer (SDE), Cable/Con...</td>\n",
       "      <td>Manufacturing &amp; Supply Chain</td>\n",
       "      <td>Shanghai, China</td>\n",
       "      <td>Drive cross-functional activities in the suppl...</td>\n",
       "      <td>BS degree in an Engineering discipline or equi...</td>\n",
       "      <td>BSEE, BSME or BSIE degree.\\nExperience of usin...</td>\n",
       "      <td>BS</td>\n",
       "    </tr>\n",
       "  </tbody>\n",
       "</table>\n",
       "</div>"
      ],
      "text/plain": [
       "  Company                                              Title  \\\n",
       "0  Google                       Google Cloud Program Manager   \n",
       "1  Google  Supplier Development Engineer (SDE), Cable/Con...   \n",
       "\n",
       "                       Category         Location  \\\n",
       "0            Program Management        Singapore   \n",
       "1  Manufacturing & Supply Chain  Shanghai, China   \n",
       "\n",
       "                                    Responsibilities  \\\n",
       "0  Shape, shepherd, ship, and show technical prog...   \n",
       "1  Drive cross-functional activities in the suppl...   \n",
       "\n",
       "                              Minimum Qualifications  \\\n",
       "0  BA/BS degree or equivalent practical experienc...   \n",
       "1  BS degree in an Engineering discipline or equi...   \n",
       "\n",
       "                            Preferred Qualifications Degree Reqirement  \n",
       "0  Experience in the business technology market a...        Bachelor's  \n",
       "1  BSEE, BSME or BSIE degree.\\nExperience of usin...                BS  "
      ]
     },
     "execution_count": 46,
     "metadata": {},
     "output_type": "execute_result"
    }
   ],
   "source": [
    "googdf['Degree Reqirement'] = DegreeColumn\n",
    "googdf.head(2)"
   ]
  },
  {
   "cell_type": "code",
   "execution_count": 47,
   "metadata": {},
   "outputs": [
    {
     "name": "stdout",
     "output_type": "stream",
     "text": [
      "[3, 2]\n"
     ]
    }
   ],
   "source": [
    "googdf_analyst = googdf[googdf['Category'] == 'IT & Data Management']\n",
    "googdf_analyst.head(2)\n",
    "print(list(googdf_analyst['Degree Reqirement'].value_counts()))\n"
   ]
  },
  {
   "cell_type": "code",
   "execution_count": 48,
   "metadata": {},
   "outputs": [
    {
     "name": "stdout",
     "output_type": "stream",
     "text": [
      "Company                     955\n",
      "Title                       955\n",
      "Category                    955\n",
      "Location                    955\n",
      "Responsibilities            955\n",
      "Minimum Qualifications      955\n",
      "Preferred Qualifications    955\n",
      "Degree Reqirement           955\n",
      "dtype: int64\n",
      "Company                     51\n",
      "Title                       51\n",
      "Category                    51\n",
      "Location                    51\n",
      "Responsibilities            51\n",
      "Minimum Qualifications      51\n",
      "Preferred Qualifications    51\n",
      "Degree Reqirement           51\n",
      "dtype: int64\n",
      "Company                     11\n",
      "Title                       11\n",
      "Category                    11\n",
      "Location                    11\n",
      "Responsibilities            11\n",
      "Minimum Qualifications      11\n",
      "Preferred Qualifications    11\n",
      "Degree Reqirement           11\n",
      "dtype: int64\n",
      "Company                     4\n",
      "Title                       4\n",
      "Category                    4\n",
      "Location                    4\n",
      "Responsibilities            4\n",
      "Minimum Qualifications      4\n",
      "Preferred Qualifications    4\n",
      "Degree Reqirement           4\n",
      "dtype: int64\n",
      "Company                     43\n",
      "Title                       43\n",
      "Category                    43\n",
      "Location                    43\n",
      "Responsibilities            43\n",
      "Minimum Qualifications      43\n",
      "Preferred Qualifications    43\n",
      "Degree Reqirement           43\n",
      "dtype: int64\n",
      "Company                     100\n",
      "Title                       100\n",
      "Category                    100\n",
      "Location                    100\n",
      "Responsibilities            100\n",
      "Minimum Qualifications      100\n",
      "Preferred Qualifications    100\n",
      "Degree Reqirement           100\n",
      "dtype: int64\n"
     ]
    }
   ],
   "source": [
    "googdf_bachelors = googdf[googdf['Degree Reqirement'] == \"Bachelor's\"]\n",
    "googdf_masters = googdf[googdf['Degree Reqirement'] == \"Master's\"]\n",
    "googdf_mba = googdf[googdf['Degree Reqirement'] == 'MBA']\n",
    "googdf_phd = googdf[googdf['Degree Reqirement'] == \"PhD\"]\n",
    "googdf_ba = googdf[googdf['Degree Reqirement'] == \"BA\"]\n",
    "googdf_bs = googdf[googdf['Degree Reqirement'] == \"BS\"]\n",
    "googdf_ged = googdf[googdf['Degree Reqirement'] == \"GED\"]\n",
    "\n",
    "print(googdf_bachelors.count())\n",
    "print(googdf_masters.count())\n",
    "print(googdf_phd.count())\n",
    "print(googdf_ba.count())\n",
    "print(googdf_bs.count())\n",
    "print(googdf_ged.count())\n"
   ]
  },
  {
   "cell_type": "code",
   "execution_count": null,
   "metadata": {},
   "outputs": [],
   "source": [
    "phd_percent = []\n",
    "mba_percent = []\n",
    "masters_percent = []\n",
    "bachelors_percent = []\n",
    "ba_percent = []\n",
    "bs_percent = []"
   ]
  },
  {
   "cell_type": "code",
   "execution_count": 49,
   "metadata": {},
   "outputs": [
    {
     "ename": "NameError",
     "evalue": "name 'matplotlib' is not defined",
     "output_type": "error",
     "traceback": [
      "\u001b[0;31m---------------------------------------------------------------------------\u001b[0m",
      "\u001b[0;31mNameError\u001b[0m                                 Traceback (most recent call last)",
      "\u001b[0;32m<ipython-input-49-2a160cde0c40>\u001b[0m in \u001b[0;36m<module>\u001b[0;34m()\u001b[0m\n\u001b[1;32m      1\u001b[0m \u001b[0;31m# make a bar graph!\u001b[0m\u001b[0;34m\u001b[0m\u001b[0;34m\u001b[0m\u001b[0m\n\u001b[0;32m----> 2\u001b[0;31m \u001b[0mmatplotlib\u001b[0m\u001b[0;34m.\u001b[0m\u001b[0mpyplot\u001b[0m\u001b[0;34m.\u001b[0m\u001b[0mbar\u001b[0m\u001b[0;34m(\u001b[0m\u001b[0mx\u001b[0m\u001b[0;34m=\u001b[0m\u001b[0mdegrees\u001b[0m\u001b[0;34m,\u001b[0m\u001b[0mheight\u001b[0m\u001b[0;34m=\u001b[0m\u001b[0;34m[\u001b[0m\u001b[0;36m3\u001b[0m\u001b[0;34m,\u001b[0m\u001b[0;36m0\u001b[0m\u001b[0;34m,\u001b[0m\u001b[0;36m0\u001b[0m\u001b[0;34m,\u001b[0m\u001b[0;36m0\u001b[0m\u001b[0;34m,\u001b[0m\u001b[0;36m0\u001b[0m\u001b[0;34m,\u001b[0m\u001b[0;36m2\u001b[0m\u001b[0;34m,\u001b[0m\u001b[0;36m0\u001b[0m\u001b[0;34m]\u001b[0m\u001b[0;34m)\u001b[0m\u001b[0;34m\u001b[0m\u001b[0m\n\u001b[0m",
      "\u001b[0;31mNameError\u001b[0m: name 'matplotlib' is not defined"
     ]
    }
   ],
   "source": [
    "# make a bar graph! \n",
    "ma.pyplot.bar(x=degrees,height=[3,0,0,0,0,2,0])"
   ]
  },
  {
   "cell_type": "code",
   "execution_count": null,
   "metadata": {},
   "outputs": [],
   "source": []
  },
  {
   "cell_type": "code",
   "execution_count": null,
   "metadata": {},
   "outputs": [],
   "source": []
  },
  {
   "cell_type": "code",
   "execution_count": 10,
   "metadata": {},
   "outputs": [],
   "source": [
    "# This is the end of the good code, proceed at your own risk!\n",
    "# \n",
    "# The NEXT MISSION: \n",
    "# apply this to the programming langauges\n",
    "from List_of_Programming_Languages import LoPL"
   ]
  },
  {
   "cell_type": "code",
   "execution_count": null,
   "metadata": {},
   "outputs": [],
   "source": [
    "for row in range(len(googdf['Minimum Qualifications'])):    "
   ]
  },
  {
   "cell_type": "code",
   "execution_count": null,
   "metadata": {},
   "outputs": [],
   "source": []
  },
  {
   "cell_type": "code",
   "execution_count": null,
   "metadata": {},
   "outputs": [],
   "source": []
  },
  {
   "cell_type": "code",
   "execution_count": null,
   "metadata": {},
   "outputs": [],
   "source": []
  },
  {
   "cell_type": "code",
   "execution_count": null,
   "metadata": {},
   "outputs": [],
   "source": []
  },
  {
   "cell_type": "code",
   "execution_count": null,
   "metadata": {},
   "outputs": [],
   "source": [
    "Degree_Requirements = []\n",
    "for row in range(len(df['Minimum Qualifications'])):\n",
    "    if any(word in df['Minimum Qualifications'][row] for word in PhD_list):\n",
    "        Degree_Requirements.append('PhD')          \n",
    "    elif any(word in sentence for word in MBA_list):\n",
    "        Degree_Requirements.append('MBA') \n",
    "    elif any(word in sentence for word in Master_list):\n",
    "        Degree_Requirements.append(\"Master's\")\n",
    "    elif any(word in sentence for word in Bachelor_list):\n",
    "        Degree_Requirements.append(\"Bachelor's\")\n",
    "    elif any(word in sentence for word in BA_list):\n",
    "        Degree_Requirements.append(\"BA\")          \n",
    "    elif any(word in sentence for word in BS_list):\n",
    "        Degree_Requirements.append(\"BS\")\n",
    "    else:\n",
    "        Degree_Requirements.append(\"GED\")\n",
    "              \n",
    "print(Degree_Requirements[0:20])"
   ]
  },
  {
   "cell_type": "code",
   "execution_count": null,
   "metadata": {},
   "outputs": [],
   "source": []
  },
  {
   "cell_type": "code",
   "execution_count": null,
   "metadata": {},
   "outputs": [],
   "source": [
    "# re.sub(\"[^\\d]\",\"\",\"asdf(650)ljhaflkhj1234657--aks\")\n",
    "re.search(\"j(oin)? (.*)$\", \"join ,\")[2]\n",
    "\n",
    "this\n",
    "that\n",
    "wooooo\n",
    "this,that,wooooooo"
   ]
  },
  {
   "cell_type": "code",
   "execution_count": null,
   "metadata": {},
   "outputs": [],
   "source": []
  },
  {
   "cell_type": "code",
   "execution_count": null,
   "metadata": {},
   "outputs": [],
   "source": [
    "\n"
   ]
  },
  {
   "cell_type": "code",
   "execution_count": null,
   "metadata": {},
   "outputs": [],
   "source": [
    "re.findall(\"q\", \"hello, world\")"
   ]
  },
  {
   "cell_type": "code",
   "execution_count": null,
   "metadata": {},
   "outputs": [],
   "source": [
    "if word in df['Minimum Qualifications'][1] == 'phd':\n",
    "    print (word)\n",
    "else:\n",
    "    print ('no word')"
   ]
  },
  {
   "cell_type": "code",
   "execution_count": null,
   "metadata": {},
   "outputs": [],
   "source": [
    "for word in PhD_list:\n",
    "    print(word)"
   ]
  },
  {
   "cell_type": "code",
   "execution_count": null,
   "metadata": {},
   "outputs": [],
   "source": []
  },
  {
   "cell_type": "code",
   "execution_count": null,
   "metadata": {},
   "outputs": [],
   "source": []
  },
  {
   "cell_type": "code",
   "execution_count": null,
   "metadata": {},
   "outputs": [],
   "source": [
    "num_rows = 0\n",
    "row_nums = []\n",
    "for row in df[\"Company\"]:\n",
    "    row_nums.append(num_rows)\n",
    "    num_rows +=1\n",
    "row_nums[0:20]"
   ]
  },
  {
   "cell_type": "code",
   "execution_count": null,
   "metadata": {},
   "outputs": [],
   "source": [
    "BIG_WORD_LIST = []\n",
    "row=0\n",
    "while row < 20:\n",
    "    for row in df['Responsibilities']:\n",
    "        BIG_WORD_LIST.append(df.iloc[int(row_nums[row]),4])\n",
    "        BIG_WORD_LIST.append(df.iloc[row,5])\n",
    "        BIG_WORD_LIST.append(df.iloc[row,6])\n",
    "\n",
    "\n",
    "len(BIG_WORD_LIST)"
   ]
  },
  {
   "cell_type": "code",
   "execution_count": null,
   "metadata": {},
   "outputs": [],
   "source": [
    "print(df.columns)\n",
    "df['Category'].value_counts()"
   ]
  },
  {
   "cell_type": "code",
   "execution_count": null,
   "metadata": {},
   "outputs": [],
   "source": [
    "Programming_Languages = ['Python', 'Java ','C#', 'PHP', 'Javascript', 'Ruby', 'Perl', 'SQL','Go ']\n",
    "\n",
    "Languages = dict((x,0) for x in Programming_Languages)\n",
    "for i in Languages:\n",
    "    x = df['Minimum Qualifications'].str.contains(i).sum()\n",
    "    if i in Languages:\n",
    "        Languages[i] = x\n",
    "        \n",
    "print(Languages)"
   ]
  },
  {
   "cell_type": "code",
   "execution_count": null,
   "metadata": {},
   "outputs": [],
   "source": [
    "type(Languages)\n",
    "# PL_DF = pd.DataFrame.from_dict(Languages)\n",
    "# PL_DF.head()"
   ]
  },
  {
   "cell_type": "code",
   "execution_count": null,
   "metadata": {},
   "outputs": [],
   "source": [
    "Degree = ['BA','BS','Bachelor','MBA','Master','PhD']\n",
    "\n",
    "Degrees = dict((x,0) for x in Degree)\n",
    "for i in Degree:\n",
    "    x = df['Minimum Qualifications'].str.contains(i).sum()\n",
    "    if i in Degrees:\n",
    "        Degrees[i] = x\n",
    "        \n",
    "print(Degrees)"
   ]
  },
  {
   "cell_type": "code",
   "execution_count": null,
   "metadata": {},
   "outputs": [],
   "source": []
  },
  {
   "cell_type": "code",
   "execution_count": null,
   "metadata": {},
   "outputs": [],
   "source": [
    "degree_requirement = sorted(Degrees.items(), key=lambda x: x[1], reverse=True)\n",
    "degree = pd.DataFrame(degree_requirement,columns=['Degree','Count'])\n",
    "degree['Count'] = degree.Count.astype('float')\n",
    "degree"
   ]
  },
  {
   "cell_type": "code",
   "execution_count": null,
   "metadata": {},
   "outputs": [],
   "source": [
    "len(df['Minimum Qualifications'])"
   ]
  },
  {
   "cell_type": "code",
   "execution_count": null,
   "metadata": {},
   "outputs": [],
   "source": [
    "for x in range(2):\n",
    "    print(df['Minimum Qualifications'][x])\n",
    "type(x)"
   ]
  },
  {
   "cell_type": "code",
   "execution_count": null,
   "metadata": {},
   "outputs": [],
   "source": []
  },
  {
   "cell_type": "code",
   "execution_count": null,
   "metadata": {},
   "outputs": [],
   "source": [
    "type(test)"
   ]
  },
  {
   "cell_type": "code",
   "execution_count": null,
   "metadata": {},
   "outputs": [],
   "source": [
    "Degree_Requirements = []\n",
    "for row in range(len(df['Minimum Qualifications'])):\n",
    "    if any(word in df['Minimum Qualifications'][row] for word in PhD_list):\n",
    "        Degree_Requirements.append('PhD')          \n",
    "    elif any(word in sentence for word in MBA_list):\n",
    "        Degree_Requirements.append('MBA') \n",
    "    elif any(word in sentence for word in Master_list):\n",
    "        Degree_Requirements.append(\"Master's\")\n",
    "    elif any(word in sentence for word in Bachelor_list):\n",
    "        Degree_Requirements.append(\"Bachelor's\")\n",
    "    elif any(word in sentence for word in BA_list):\n",
    "        Degree_Requirements.append(\"BA\")          \n",
    "    elif any(word in sentence for word in BS_list):\n",
    "        Degree_Requirements.append(\"BS\")\n",
    "    else:\n",
    "        Degree_Requirements.append(\"GED\")\n",
    "              \n",
    "print(Degree_Requirements[0:20])"
   ]
  },
  {
   "cell_type": "code",
   "execution_count": null,
   "metadata": {},
   "outputs": [],
   "source": [
    "df['Category'].unique()"
   ]
  },
  {
   "cell_type": "code",
   "execution_count": null,
   "metadata": {},
   "outputs": [],
   "source": [
    "df_by_category = pd.DataFrame()"
   ]
  },
  {
   "cell_type": "code",
   "execution_count": null,
   "metadata": {},
   "outputs": [],
   "source": [
    "BIG_WORD_LIST[0].replace('\\n',' ')"
   ]
  },
  {
   "cell_type": "code",
   "execution_count": null,
   "metadata": {},
   "outputs": [],
   "source": [
    "# find out which language occurs in most in minimum Qualifications string\n",
    "from List_of_Programming_Languages.py import LoPL\n",
    "wordcount = dict((x,0) for x in LoPL)\n",
    "for w in re.findall(r\"[\\w'+#-]+|[.!?;’]\", miniumum_qualifications_string):\n",
    "    if w in wordcount:\n",
    "        wordcount[w] += 1\n",
    "# print\n",
    "print(wordcount)"
   ]
  },
  {
   "cell_type": "code",
   "execution_count": null,
   "metadata": {},
   "outputs": [],
   "source": [
    "4th Dimension/4D\n",
    "ABAP\n",
    "ABC\n",
    "ActionScript\n",
    "Ada\n",
    "Agilent VEE\n",
    "Algol\n",
    "Alice\n",
    "Angelscript\n",
    "Apex\n",
    "APL\n",
    "AppleScript\n",
    "Arc"
   ]
  },
  {
   "cell_type": "code",
   "execution_count": null,
   "metadata": {},
   "outputs": [],
   "source": []
  },
  {
   "cell_type": "code",
   "execution_count": null,
   "metadata": {},
   "outputs": [],
   "source": [
    "results = []\n",
    "for row in list(df['Minimum Qualifications']):\n",
    "    found = re.findall(PhD_re, row)\n",
    "    results.append(len(found) > 0)\n",
    "print(results[0:20])\n"
   ]
  },
  {
   "cell_type": "code",
   "execution_count": null,
   "metadata": {},
   "outputs": [],
   "source": []
  },
  {
   "cell_type": "code",
   "execution_count": null,
   "metadata": {},
   "outputs": [],
   "source": []
  },
  {
   "cell_type": "code",
   "execution_count": null,
   "metadata": {},
   "outputs": [],
   "source": []
  },
  {
   "cell_type": "code",
   "execution_count": null,
   "metadata": {},
   "outputs": [],
   "source": []
  },
  {
   "cell_type": "code",
   "execution_count": null,
   "metadata": {},
   "outputs": [],
   "source": [
    "# Rename the columns to make them easier to code \n",
    "df = df.rename(columns={\n",
    "    'Minimum Qualifications': 'Minimum_Qualifications', \n",
    "    'Preferred Qualifications': 'Preferred_Qualifications'})"
   ]
  },
  {
   "cell_type": "code",
   "execution_count": null,
   "metadata": {},
   "outputs": [],
   "source": [
    "# are there any NaN values in the DF?\n",
    "pd.isnull(df).sum()"
   ]
  },
  {
   "cell_type": "code",
   "execution_count": null,
   "metadata": {},
   "outputs": [],
   "source": [
    "# Drop all those null rows\n",
    "df = df.dropna(how='any',axis='rows')"
   ]
  },
  {
   "cell_type": "code",
   "execution_count": null,
   "metadata": {},
   "outputs": [],
   "source": [
    "# check to see if there are any other company names \n",
    "df.Company.value_counts()"
   ]
  },
  {
   "cell_type": "code",
   "execution_count": null,
   "metadata": {},
   "outputs": [],
   "source": [
    "# So I drop Youtube\n",
    "# df = df[df.Company != 'YouTube']"
   ]
  },
  {
   "cell_type": "code",
   "execution_count": null,
   "metadata": {},
   "outputs": [],
   "source": [
    "df.Location.value_counts()[:15]"
   ]
  },
  {
   "cell_type": "code",
   "execution_count": null,
   "metadata": {},
   "outputs": [],
   "source": [
    "df['Country'] = df['Location'].apply(lambda x : x.split(',')[-1])"
   ]
  },
  {
   "cell_type": "code",
   "execution_count": null,
   "metadata": {},
   "outputs": [],
   "source": [
    "df.head(2)"
   ]
  },
  {
   "cell_type": "code",
   "execution_count": null,
   "metadata": {},
   "outputs": [],
   "source": [
    "df.Country.value_counts()[:15]"
   ]
  },
  {
   "cell_type": "code",
   "execution_count": null,
   "metadata": {},
   "outputs": [],
   "source": [
    "# The way to extract year refer to https://www.kaggle.com/niyamatalmass/what-you-need-to-get-a-job-at-google.\n",
    "# Thanks Niyamat Ullah for such brilliant way. Go check his kernel. It's great!\n",
    "import re\n",
    "df['Minimum_years_experience'] = df['Minimum_Qualifications'].apply(lambda x : re.findall(r'([0-9]+) year',x))\n",
    "# Fill empty list with [0]\n",
    "df['Minimum_years_experience'] = df['Minimum_years_experience'].apply(lambda y : [0] if len(y)==0 else y)\n",
    "# Then extract maximum in the list to have the work experience requirement\n",
    "df['Minimum_years_experience'] = df['Minimum_years_experience'].apply(lambda z : max(z))\n",
    "df['Minimum_years_experience'] = df.Minimum_years_experience.astype(int)"
   ]
  },
  {
   "cell_type": "code",
   "execution_count": null,
   "metadata": {},
   "outputs": [],
   "source": []
  },
  {
   "cell_type": "code",
   "execution_count": null,
   "metadata": {},
   "outputs": [],
   "source": []
  },
  {
   "cell_type": "code",
   "execution_count": null,
   "metadata": {},
   "outputs": [],
   "source": []
  }
 ],
 "metadata": {
  "kernelspec": {
   "display_name": "Python 3",
   "language": "python",
   "name": "python3"
  },
  "language_info": {
   "codemirror_mode": {
    "name": "ipython",
    "version": 3
   },
   "file_extension": ".py",
   "mimetype": "text/x-python",
   "name": "python",
   "nbconvert_exporter": "python",
   "pygments_lexer": "ipython3",
   "version": "3.6.5"
  }
 },
 "nbformat": 4,
 "nbformat_minor": 2
}
